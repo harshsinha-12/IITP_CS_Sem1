{
  "nbformat": 4,
  "nbformat_minor": 0,
  "metadata": {
    "colab": {
      "provenance": [],
      "cell_execution_strategy": "setup",
      "authorship_tag": "ABX9TyM1ci2+H1RKWM5HpD5eMfQ7",
      "include_colab_link": true
    },
    "kernelspec": {
      "name": "python3",
      "display_name": "Python 3"
    },
    "language_info": {
      "name": "python"
    }
  },
  "cells": [
    {
      "cell_type": "markdown",
      "metadata": {
        "id": "view-in-github",
        "colab_type": "text"
      },
      "source": [
        "<a href=\"https://colab.research.google.com/github/harshsinha-12/IITP_CS_Sem1/blob/main/CS_Python1.ipynb\" target=\"_parent\"><img src=\"https://colab.research.google.com/assets/colab-badge.svg\" alt=\"Open In Colab\"/></a>"
      ]
    },
    {
      "cell_type": "markdown",
      "source": [
        "# Functions\n",
        "\n",
        "Code block to print or implement repetative tasks so that they could be called again in a program in one line when needed"
      ],
      "metadata": {
        "id": "FktpYXqee9M3"
      }
    },
    {
      "cell_type": "code",
      "execution_count": 1,
      "metadata": {
        "colab": {
          "base_uri": "https://localhost:8080/"
        },
        "id": "lZsTR0j2eY8_",
        "outputId": "4906589b-fca3-4e06-a7c5-eab3f30a2033"
      },
      "outputs": [
        {
          "output_type": "stream",
          "name": "stdout",
          "text": [
            "<function hello at 0x7e505c8d5b40>\n",
            "Hello\n",
            "Programming is Fun!\n"
          ]
        }
      ],
      "source": [
        "def hello():  # defining the function\n",
        "  print(\"Hello\")\n",
        "  print(\"Programming is Fun!\")\n",
        "\n",
        "print(hello) # Address of function\n",
        "hello()       # Calling the function or Invoking the function"
      ]
    },
    {
      "cell_type": "markdown",
      "source": [
        "Take input as User Name\n",
        "\n",
        "print hello name\n",
        "\n",
        "programming is fun"
      ],
      "metadata": {
        "id": "0q6R78RYhSO1"
      }
    },
    {
      "cell_type": "code",
      "source": [
        "def hello(person): # Person is Argument or Parameters\n",
        "  print(\"Hello\", person)\n",
        "  print(\"Programming is Fun!\")\n",
        "\n",
        "person = input(\"What's your name:\")\n",
        "hello(person)"
      ],
      "metadata": {
        "colab": {
          "base_uri": "https://localhost:8080/"
        },
        "id": "Xio62aEDhCI5",
        "outputId": "b4d221ce-69f1-4cae-f34a-7b8c211707a9"
      },
      "execution_count": 2,
      "outputs": [
        {
          "output_type": "stream",
          "name": "stdout",
          "text": [
            "What's your name:harsh\n",
            "Hello harsh\n",
            "Programming is Fun!\n"
          ]
        }
      ]
    },
    {
      "cell_type": "code",
      "source": [
        "def hello(person): # Person is Argument\n",
        "  person = input(\"What's your name:\")\n",
        "  print(\"Hello\", person)\n",
        "  print(\"Programming is Fun!\")\n",
        "\n",
        "\n",
        "hello(person)"
      ],
      "metadata": {
        "colab": {
          "base_uri": "https://localhost:8080/"
        },
        "id": "Ui-ePzHBif8f",
        "outputId": "30359765-2e80-43b3-f35f-db36382d5101"
      },
      "execution_count": 3,
      "outputs": [
        {
          "output_type": "stream",
          "name": "stdout",
          "text": [
            "What's your name:harsh\n",
            "Hello harsh\n",
            "Programming is Fun!\n"
          ]
        }
      ]
    },
    {
      "cell_type": "code",
      "source": [
        "def hello(person, city): # Person and City are Arguments...can pass multiple arguments/parameters\n",
        "  #person = input(\"What's your name:\")\n",
        "  #city = input(\"Where do you live:\")\n",
        "  print(\"Hello\", person, \"from\", city)\n",
        "  print(\"Programming is Fun!\")\n",
        "\n",
        "hello(\"Harsh\", \"Bareilly\")  # Passing the values to the function"
      ],
      "metadata": {
        "colab": {
          "base_uri": "https://localhost:8080/"
        },
        "id": "_7d3yRUTiqL7",
        "outputId": "49e5f210-edc2-49c6-f6ad-937ad70dc71a"
      },
      "execution_count": 4,
      "outputs": [
        {
          "output_type": "stream",
          "name": "stdout",
          "text": [
            "Hello Harsh from Bareilly\n",
            "Programming is Fun!\n"
          ]
        }
      ]
    },
    {
      "cell_type": "code",
      "source": [
        "def print_func(i, j):\n",
        "  print(\"Value of i is\", i)\n",
        "  print(\"Value of j is\", j)\n",
        "\n",
        "print_func(10,20)"
      ],
      "metadata": {
        "colab": {
          "base_uri": "https://localhost:8080/"
        },
        "id": "8axgfTgLjuZG",
        "outputId": "875c8a42-8153-468a-ccaa-c7abad8990d1"
      },
      "execution_count": 5,
      "outputs": [
        {
          "output_type": "stream",
          "name": "stdout",
          "text": [
            "Value of i is 10\n",
            "Value of j is 20\n"
          ]
        }
      ]
    },
    {
      "cell_type": "code",
      "source": [
        "def print_func(i, j = 100):  # default value\n",
        "  print(\"Value of i is\", i)\n",
        "  print(\"Value of j is\", j)\n",
        "\n",
        "print_func(10,20) # but we passed a number so it gets updated"
      ],
      "metadata": {
        "colab": {
          "base_uri": "https://localhost:8080/"
        },
        "id": "AfjcvvA_kDut",
        "outputId": "adb4f554-b342-42a1-b8a6-bc4ff221d392"
      },
      "execution_count": 6,
      "outputs": [
        {
          "output_type": "stream",
          "name": "stdout",
          "text": [
            "Value of i is 10\n",
            "Value of j is 20\n"
          ]
        }
      ]
    },
    {
      "cell_type": "code",
      "source": [
        "def print_func(i, j = 100):  # default value\n",
        "  print(\"Value of i is\", i)\n",
        "  print(\"Value of j is\", j)\n",
        "\n",
        "print_func(10)"
      ],
      "metadata": {
        "colab": {
          "base_uri": "https://localhost:8080/"
        },
        "id": "Z2s9Oj2mkQUr",
        "outputId": "69bcc09f-1994-4f69-df66-50fe39818c48"
      },
      "execution_count": 7,
      "outputs": [
        {
          "output_type": "stream",
          "name": "stdout",
          "text": [
            "Value of i is 10\n",
            "Value of j is 100\n"
          ]
        }
      ]
    },
    {
      "cell_type": "markdown",
      "source": [
        "# `Question`\n",
        "to print sum of two numbers"
      ],
      "metadata": {
        "id": "4VgZ-R8ikWAq"
      }
    },
    {
      "cell_type": "code",
      "source": [
        "def sum(a, b):\n",
        "  print(\"sum is\", a + b)\n",
        "\n",
        "sum(2, 4)\n",
        "\n"
      ],
      "metadata": {
        "colab": {
          "base_uri": "https://localhost:8080/"
        },
        "id": "ldWCNAcGkSsQ",
        "outputId": "f67fab70-ef76-4906-878d-b46c5b01beb7"
      },
      "execution_count": null,
      "outputs": [
        {
          "output_type": "stream",
          "name": "stdout",
          "text": [
            "sum is 6\n"
          ]
        }
      ]
    },
    {
      "cell_type": "markdown",
      "source": [
        "# or"
      ],
      "metadata": {
        "id": "bWvZAVd5lD-2"
      }
    },
    {
      "cell_type": "code",
      "source": [
        "def sum(a, b):\n",
        "  print(\"sum is\", a + b)\n",
        "\n",
        "a = int(input(\"Enter Number 1:\"))\n",
        "b = int(input(\"Enter Number 2:\"))\n",
        "sum(a, b)\n"
      ],
      "metadata": {
        "colab": {
          "base_uri": "https://localhost:8080/"
        },
        "id": "mGLiRZlDknh0",
        "outputId": "0217acdf-a9a5-4bdf-bc87-d76c7ec36055"
      },
      "execution_count": null,
      "outputs": [
        {
          "output_type": "stream",
          "name": "stdout",
          "text": [
            "Enter Number 1:4\n",
            "Enter Number 2:9\n",
            "sum is 13\n"
          ]
        }
      ]
    },
    {
      "cell_type": "code",
      "source": [
        "def Bday():\n",
        "  print(\"Happy Birthday to You\")\n",
        "  print(\"Happy Birthday to Youuuu\")\n",
        "\n",
        "def name():\n",
        "  Bday()\n",
        "  print(\"Happy Birthday to You\", n)\n",
        "  print(\"Happy Birthday to You\")\n",
        "\n",
        "n = input(\"Enter Name:\")\n",
        "\n",
        "name()"
      ],
      "metadata": {
        "colab": {
          "base_uri": "https://localhost:8080/"
        },
        "id": "x9Ab_SlLl1_L",
        "outputId": "293f7ec3-d55e-4b1f-bff7-c05c2d8b0d5f"
      },
      "execution_count": null,
      "outputs": [
        {
          "output_type": "stream",
          "name": "stdout",
          "text": [
            "Enter Name:Annu\n",
            "Happy Birthday to You\n",
            "Happy Birthday to Youuuu\n",
            "Happy Birthday to You Annu\n",
            "Happy Birthday to You\n"
          ]
        }
      ]
    },
    {
      "cell_type": "markdown",
      "source": [
        "# formal parameters are local variables....accessable only in the body of function (scope of variable local or global)"
      ],
      "metadata": {
        "id": "uXG3JVxunK5Z"
      }
    },
    {
      "cell_type": "code",
      "source": [
        "def func1(x,y):\n",
        "  z = 4 # local variable\n",
        "  print(x,y,z)\n",
        "\n",
        "func1(1,7)\n",
        "\n",
        "# Means Z can't be accessed outside the function\n",
        "\n",
        "# print(z) will give error"
      ],
      "metadata": {
        "colab": {
          "base_uri": "https://localhost:8080/"
        },
        "id": "u7JY01oXnKMb",
        "outputId": "4c65faa3-3270-4042-bfe3-d34b64ae580e"
      },
      "execution_count": null,
      "outputs": [
        {
          "output_type": "stream",
          "name": "stdout",
          "text": [
            "1 7 4\n"
          ]
        }
      ]
    },
    {
      "cell_type": "code",
      "source": [
        "def func1(x,y):\n",
        "  global z #globalized\n",
        "  z = 4 # local variable\n",
        "  print(x,y,z)\n",
        "\n",
        "func1(1,7)\n",
        "print(z)"
      ],
      "metadata": {
        "colab": {
          "base_uri": "https://localhost:8080/"
        },
        "id": "k-4d0b3Youjk",
        "outputId": "f877f261-c450-4603-e2cc-e4c1702dd8c7"
      },
      "execution_count": null,
      "outputs": [
        {
          "output_type": "stream",
          "name": "stdout",
          "text": [
            "1 7 4\n",
            "4\n"
          ]
        }
      ]
    },
    {
      "cell_type": "code",
      "source": [
        "z = 8 # Global\n",
        "def func1(x,y):\n",
        "  z = 4 # local variable\n",
        "  print(x,y,z)\n",
        "\n",
        "func1(1,7)\n",
        "print(z)"
      ],
      "metadata": {
        "colab": {
          "base_uri": "https://localhost:8080/"
        },
        "id": "q1CTM8wlpbJ0",
        "outputId": "5cba92c5-af47-46b8-f21f-eb9ff9dbddff"
      },
      "execution_count": null,
      "outputs": [
        {
          "output_type": "stream",
          "name": "stdout",
          "text": [
            "1 7 4\n",
            "8\n"
          ]
        }
      ]
    },
    {
      "cell_type": "markdown",
      "source": [
        "# Question 2\n",
        "\n",
        "Write a function that takes 2 values from user and print their sum. Sum should be calculated in another function."
      ],
      "metadata": {
        "id": "0SvY8OImqaKR"
      }
    },
    {
      "cell_type": "code",
      "source": [
        "def variable(a, b):\n",
        "  a = int(input(\"Enter Number 1:\"))\n",
        "  b = int(input(\"Enter Number 2:\"))\n",
        "variable(a, b)\n",
        "\n",
        "def sum():\n",
        "  sum = a + b\n",
        "  print(sum)\n",
        "\n",
        "sum()\n"
      ],
      "metadata": {
        "colab": {
          "base_uri": "https://localhost:8080/"
        },
        "id": "eX83F-S1qdeT",
        "outputId": "1ff94edf-4c20-4c14-fc3c-15b322d3deae"
      },
      "execution_count": null,
      "outputs": [
        {
          "output_type": "stream",
          "name": "stdout",
          "text": [
            "Enter Number 1:7\n",
            "Enter Number 2:8\n",
            "13\n"
          ]
        }
      ]
    },
    {
      "cell_type": "code",
      "source": [
        "def addInterest(balance, rate):\n",
        "  newbalance = balance*(1+rate)\n",
        "  #return newbalance\n",
        "\n",
        "def test():\n",
        "  amt = 1000\n",
        "  rate = 0.05\n",
        "  nb = addInterest(amt, rate)\n",
        "  print(amt)\n",
        "\n",
        "test()"
      ],
      "metadata": {
        "colab": {
          "base_uri": "https://localhost:8080/"
        },
        "id": "iMaZjAv3pktO",
        "outputId": "b08365fe-f34e-4387-b474-4583ca66cb72"
      },
      "execution_count": null,
      "outputs": [
        {
          "output_type": "stream",
          "name": "stdout",
          "text": [
            "1000\n"
          ]
        }
      ]
    },
    {
      "cell_type": "code",
      "source": [
        "def addInterest(balance, rate):\n",
        "  newbalance = balance*(1+rate)\n",
        "  return newbalance\n",
        "\n",
        "def test():\n",
        "  amt = 1000\n",
        "  rate = 0.05\n",
        "  nb = addInterest(amt, rate)\n",
        "  print(nb)\n",
        "\n",
        "test()"
      ],
      "metadata": {
        "colab": {
          "base_uri": "https://localhost:8080/"
        },
        "id": "3H4vpgx-rU1I",
        "outputId": "bb5da6c1-603f-4f44-dda6-458219f67fbf"
      },
      "execution_count": null,
      "outputs": [
        {
          "output_type": "stream",
          "name": "stdout",
          "text": [
            "1050.0\n"
          ]
        }
      ]
    },
    {
      "cell_type": "code",
      "source": [
        "def addInterest(balance, rate):\n",
        "  newbalance = balance*(1+rate)\n",
        "  #return newbalance\n",
        "\n",
        "def test():\n",
        "  amt = 1000\n",
        "  rate = 0.05\n",
        "  nb = addInterest(amt, rate)\n",
        "  print(nb)\n",
        "\n",
        "test()"
      ],
      "metadata": {
        "colab": {
          "base_uri": "https://localhost:8080/"
        },
        "id": "6Q9m9-l0rb_-",
        "outputId": "18bb77f8-188b-4d25-f97f-c60e18f42f57"
      },
      "execution_count": null,
      "outputs": [
        {
          "output_type": "stream",
          "name": "stdout",
          "text": [
            "None\n"
          ]
        }
      ]
    },
    {
      "cell_type": "code",
      "source": [
        "def inc(x):\n",
        "  x = x+1\n",
        "\n",
        "  x= 1\n",
        "  inc(x)\n"
      ],
      "metadata": {
        "id": "-34dBR_Ar1C3"
      },
      "execution_count": null,
      "outputs": []
    },
    {
      "cell_type": "code",
      "source": [
        "def sq(n):\n",
        "  square = n*n\n",
        "  print(square)\n",
        "\n",
        "n = int(input(\"Enter the number\"))\n",
        "sq(n)"
      ],
      "metadata": {
        "colab": {
          "base_uri": "https://localhost:8080/"
        },
        "id": "3WpKAkA6r8uR",
        "outputId": "58295699-e66a-4c3a-b9be-20d39fd4ed19"
      },
      "execution_count": null,
      "outputs": [
        {
          "output_type": "stream",
          "name": "stdout",
          "text": [
            "Enter the number8\n",
            "64\n"
          ]
        }
      ]
    },
    {
      "cell_type": "code",
      "source": [
        "def sq(n):\n",
        "  square = n*n\n",
        "  return square\n",
        "\n",
        "sq(9)"
      ],
      "metadata": {
        "colab": {
          "base_uri": "https://localhost:8080/"
        },
        "id": "mS5JN3Xgsh3Y",
        "outputId": "60196081-2654-407c-f99a-6801b23c3477"
      },
      "execution_count": null,
      "outputs": [
        {
          "output_type": "execute_result",
          "data": {
            "text/plain": [
              "81"
            ]
          },
          "metadata": {},
          "execution_count": 24
        }
      ]
    },
    {
      "cell_type": "code",
      "source": [
        "def area(l,b):\n",
        "  a = l*b\n",
        "  return a\n",
        "print(\"Area of Rectangle is:\")\n",
        "area(9,6)\n"
      ],
      "metadata": {
        "colab": {
          "base_uri": "https://localhost:8080/"
        },
        "id": "N98URQU3ycH-",
        "outputId": "3e8df821-9bac-4c1c-c8b7-c911e76807d1"
      },
      "execution_count": null,
      "outputs": [
        {
          "output_type": "stream",
          "name": "stdout",
          "text": [
            "Area of Rectangle is:\n"
          ]
        },
        {
          "output_type": "execute_result",
          "data": {
            "text/plain": [
              "54"
            ]
          },
          "metadata": {},
          "execution_count": 26
        }
      ]
    },
    {
      "cell_type": "code",
      "source": [
        "# Function to convert C to F\n",
        "\n",
        "def celsius_to_fahrenheit(celsius):\n",
        "    fahrenheit = (celsius * 9/5) + 32\n",
        "    return fahrenheit\n",
        "\n",
        "celsius = float(input(\"Enter temperature in Celsius: \"))\n",
        "\n",
        "fahrenheit = celsius_to_fahrenheit(celsius)\n",
        "print(celsius,\"degrees Celsius is equal to\", fahrenheit, \"degrees Fahrenheit\")\n"
      ],
      "metadata": {
        "colab": {
          "base_uri": "https://localhost:8080/"
        },
        "id": "ksDA69eQyDho",
        "outputId": "5310f7d7-5c8f-473f-8590-486c35229e67"
      },
      "execution_count": null,
      "outputs": [
        {
          "output_type": "stream",
          "name": "stdout",
          "text": [
            "Enter temperature in Celsius: 100\n",
            "100.0 degrees Celsius is equal to 212.0 degrees Fahrenheit\n"
          ]
        }
      ]
    },
    {
      "cell_type": "code",
      "source": [
        "print(celsius_to_fahrenheit(35))\n",
        "print(celsius_to_fahrenheit(354))\n",
        "print(celsius_to_fahrenheit(325))\n",
        "print(celsius_to_fahrenheit(14))\n",
        "print(celsius_to_fahrenheit(16))\n",
        "print(celsius_to_fahrenheit(179))\n",
        "print(celsius_to_fahrenheit(98.6))"
      ],
      "metadata": {
        "colab": {
          "base_uri": "https://localhost:8080/"
        },
        "id": "IzO3N6W1zCf7",
        "outputId": "810171a5-207e-451a-dfd6-82ec067ecfa3"
      },
      "execution_count": null,
      "outputs": [
        {
          "output_type": "stream",
          "name": "stdout",
          "text": [
            "95.0\n",
            "669.2\n",
            "617.0\n",
            "57.2\n",
            "60.8\n",
            "354.2\n",
            "209.48\n"
          ]
        }
      ]
    },
    {
      "cell_type": "code",
      "source": [
        "def convertToGram():\n",
        "  i = float(input(\"Enter weight in Grams:\"))\n",
        "  g = i * 1000\n",
        "  print(\"Weight in grams is\",g )\n",
        "\n",
        "convertToGram()"
      ],
      "metadata": {
        "colab": {
          "base_uri": "https://localhost:8080/"
        },
        "id": "LFEd64anOu4y",
        "outputId": "787cf18b-2a6b-4d02-921a-80ed09730291"
      },
      "execution_count": null,
      "outputs": [
        {
          "output_type": "stream",
          "name": "stdout",
          "text": [
            "Enter weight in Grams:75\n",
            "Weight in grams is 75000.0\n"
          ]
        }
      ]
    },
    {
      "cell_type": "code",
      "source": [
        "def cov(kgwt):\n",
        "  gmwt = 1000*kgwt\n",
        "  return gmwt\n",
        "\n",
        "def main():\n",
        "  wt = eval(input(\"W in kg:\"))\n",
        "  gmwt = cov(wt)\n",
        "  print(\"W in gm\", gmwt)\n",
        "\n",
        "main()"
      ],
      "metadata": {
        "colab": {
          "base_uri": "https://localhost:8080/"
        },
        "id": "G8Eb6BogPmou",
        "outputId": "6dcc81c4-378e-4241-aaf8-b6d169113592"
      },
      "execution_count": null,
      "outputs": [
        {
          "output_type": "stream",
          "name": "stdout",
          "text": [
            "W in kg:70\n",
            "W in gm 70000\n"
          ]
        }
      ]
    },
    {
      "cell_type": "markdown",
      "source": [
        "# BITWISE OPERATORS"
      ],
      "metadata": {
        "id": "6-S-3FtfTbGU"
      }
    },
    {
      "cell_type": "markdown",
      "source": [
        "Binary AND &"
      ],
      "metadata": {
        "id": "jNX7crXZTgkL"
      }
    },
    {
      "cell_type": "code",
      "source": [
        "p = 6\n",
        "q = 7\n",
        "print(p&q)"
      ],
      "metadata": {
        "colab": {
          "base_uri": "https://localhost:8080/"
        },
        "id": "77SAZbAzTBIp",
        "outputId": "63d91f21-d430-4416-b1ce-4d5f8bcb51e8"
      },
      "execution_count": null,
      "outputs": [
        {
          "output_type": "stream",
          "name": "stdout",
          "text": [
            "6\n"
          ]
        }
      ]
    },
    {
      "cell_type": "markdown",
      "source": [
        "Binary OR |"
      ],
      "metadata": {
        "id": "LFDtXxBtTl3U"
      }
    },
    {
      "cell_type": "code",
      "source": [
        "p = 6\n",
        "q = 7\n",
        "print(p|q)"
      ],
      "metadata": {
        "colab": {
          "base_uri": "https://localhost:8080/"
        },
        "id": "tEjGLLV3TGdH",
        "outputId": "ad26ed6c-a947-4bdd-f779-8afd5ba6aeca"
      },
      "execution_count": null,
      "outputs": [
        {
          "output_type": "stream",
          "name": "stdout",
          "text": [
            "7\n"
          ]
        }
      ]
    },
    {
      "cell_type": "markdown",
      "source": [
        "Binary XOR ^"
      ],
      "metadata": {
        "id": "OkX7SW5YTwXI"
      }
    },
    {
      "cell_type": "code",
      "source": [
        "p = 6\n",
        "q = 7\n",
        "print(p^q)"
      ],
      "metadata": {
        "colab": {
          "base_uri": "https://localhost:8080/"
        },
        "id": "g49ujgfST0F0",
        "outputId": "e9bceb7b-acd1-40f3-b4fe-36bf7a7121b1"
      },
      "execution_count": null,
      "outputs": [
        {
          "output_type": "stream",
          "name": "stdout",
          "text": [
            "1\n"
          ]
        }
      ]
    },
    {
      "cell_type": "markdown",
      "source": [
        "Binary Complement ~ (Unary Operation)"
      ],
      "metadata": {
        "id": "BN9Fg87dT48j"
      }
    },
    {
      "cell_type": "code",
      "source": [
        "p = 6\n",
        "q = 7\n",
        "print(~p)\n",
        "print(~q)"
      ],
      "metadata": {
        "colab": {
          "base_uri": "https://localhost:8080/"
        },
        "id": "kECaQVCPT4Qj",
        "outputId": "49d9d3aa-c071-4769-9027-cef594787685"
      },
      "execution_count": null,
      "outputs": [
        {
          "output_type": "stream",
          "name": "stdout",
          "text": [
            "-7\n",
            "-8\n"
          ]
        }
      ]
    },
    {
      "cell_type": "markdown",
      "source": [
        "<< Binary Left Shift"
      ],
      "metadata": {
        "id": "MHpG-9aaUK8t"
      }
    },
    {
      "cell_type": "code",
      "source": [
        "p = 6\n",
        "q = 7\n",
        "print(p<<q)"
      ],
      "metadata": {
        "colab": {
          "base_uri": "https://localhost:8080/"
        },
        "id": "KcTAsPbXUN0E",
        "outputId": "882922c9-ef72-4eb5-fbf1-28fe4a8aac0d"
      },
      "execution_count": null,
      "outputs": [
        {
          "output_type": "stream",
          "name": "stdout",
          "text": [
            "768\n"
          ]
        }
      ]
    },
    {
      "cell_type": "markdown",
      "source": [
        "'>>' Binary Right Shift"
      ],
      "metadata": {
        "id": "R95WCXYlUxFJ"
      }
    },
    {
      "cell_type": "code",
      "source": [
        "p = 6\n",
        "q = 7\n",
        "print(p>>q)"
      ],
      "metadata": {
        "colab": {
          "base_uri": "https://localhost:8080/"
        },
        "id": "9IrDxRz0UT1e",
        "outputId": "49565ac4-a634-4b54-c84b-ae6f49e25a46"
      },
      "execution_count": null,
      "outputs": [
        {
          "output_type": "stream",
          "name": "stdout",
          "text": [
            "0\n"
          ]
        }
      ]
    },
    {
      "cell_type": "markdown",
      "source": [
        "Logical and"
      ],
      "metadata": {
        "id": "PaYUvF9CU466"
      }
    },
    {
      "cell_type": "code",
      "source": [
        "p = 6\n",
        "q = 7\n",
        "print(p and q)"
      ],
      "metadata": {
        "colab": {
          "base_uri": "https://localhost:8080/"
        },
        "id": "z4dW8FduU-4a",
        "outputId": "d719640f-10d3-4aeb-bcae-fadaedd329a2"
      },
      "execution_count": null,
      "outputs": [
        {
          "output_type": "stream",
          "name": "stdout",
          "text": [
            "7\n"
          ]
        }
      ]
    },
    {
      "cell_type": "markdown",
      "source": [
        "Logical or"
      ],
      "metadata": {
        "id": "2gwkDB_lVDRq"
      }
    },
    {
      "cell_type": "code",
      "source": [
        "p = 6\n",
        "q = 7\n",
        "print(p or q)"
      ],
      "metadata": {
        "colab": {
          "base_uri": "https://localhost:8080/"
        },
        "id": "iqdKt_nNVFlU",
        "outputId": "caae12e9-501d-4fa6-cfbc-5bb3af25a91e"
      },
      "execution_count": null,
      "outputs": [
        {
          "output_type": "stream",
          "name": "stdout",
          "text": [
            "6\n"
          ]
        }
      ]
    },
    {
      "cell_type": "markdown",
      "source": [
        "Logical not"
      ],
      "metadata": {
        "id": "jgo_4Zu7VN7Z"
      }
    },
    {
      "cell_type": "code",
      "source": [
        "p = 6\n",
        "q = 7\n",
        "print(not(p,q))"
      ],
      "metadata": {
        "colab": {
          "base_uri": "https://localhost:8080/"
        },
        "id": "vXVpY3mfVJgg",
        "outputId": "a65c6a8e-b700-461f-b4f2-3ad1ebb5b046"
      },
      "execution_count": null,
      "outputs": [
        {
          "output_type": "stream",
          "name": "stdout",
          "text": [
            "False\n"
          ]
        }
      ]
    },
    {
      "cell_type": "code",
      "source": [
        "p = 0\n",
        "q = 0\n",
        "print(not(p,q))"
      ],
      "metadata": {
        "colab": {
          "base_uri": "https://localhost:8080/"
        },
        "id": "JQGjyVJxVarB",
        "outputId": "37a551d3-86e5-4204-9e63-45e1aee79725"
      },
      "execution_count": null,
      "outputs": [
        {
          "output_type": "stream",
          "name": "stdout",
          "text": [
            "False\n"
          ]
        }
      ]
    },
    {
      "cell_type": "code",
      "source": [
        "p = 0\n",
        "q = 1\n",
        "print(not(p,q))"
      ],
      "metadata": {
        "colab": {
          "base_uri": "https://localhost:8080/"
        },
        "id": "nVto96BaVeDi",
        "outputId": "ed536b8d-9946-43a9-b0ee-02ce8d5b7bdf"
      },
      "execution_count": null,
      "outputs": [
        {
          "output_type": "stream",
          "name": "stdout",
          "text": [
            "False\n"
          ]
        }
      ]
    },
    {
      "cell_type": "code",
      "source": [
        "p = 1\n",
        "q = 0\n",
        "print(not(p,q))"
      ],
      "metadata": {
        "colab": {
          "base_uri": "https://localhost:8080/"
        },
        "id": "yqio3e47VgbQ",
        "outputId": "18f1160b-7dee-4fd3-d441-51964ba37647"
      },
      "execution_count": null,
      "outputs": [
        {
          "output_type": "stream",
          "name": "stdout",
          "text": [
            "False\n"
          ]
        }
      ]
    },
    {
      "cell_type": "markdown",
      "source": [
        "Membership operators"
      ],
      "metadata": {
        "id": "cjGQYMGjVrbZ"
      }
    },
    {
      "cell_type": "code",
      "source": [
        "p = 7\n",
        "q = [4,6,7]\n",
        "print(p in q)\n",
        "print(8 in q)"
      ],
      "metadata": {
        "colab": {
          "base_uri": "https://localhost:8080/"
        },
        "id": "HCoLNhXlVqnE",
        "outputId": "004e2502-2434-448d-e466-04c156835be2"
      },
      "execution_count": null,
      "outputs": [
        {
          "output_type": "stream",
          "name": "stdout",
          "text": [
            "True\n",
            "False\n"
          ]
        }
      ]
    },
    {
      "cell_type": "markdown",
      "source": [
        "Operator Precedence\n",
        "\n",
        "**\n",
        "\n",
        "~ + -\n",
        "\n",
        "'*' / % //\n",
        "\n",
        "'+' -\n",
        "\n",
        "'>>' <<\n",
        "\n",
        "&\n",
        "\n",
        "^ |\n",
        "\n",
        "< = < > > =\n",
        "\n",
        "<> == !=\n",
        "\n",
        "= %= /= //= -= +=\n",
        "\n",
        "is is not\n",
        "\n",
        "in not in\n",
        "\n",
        "not or and"
      ],
      "metadata": {
        "id": "g30uODWPV3R_"
      }
    },
    {
      "cell_type": "markdown",
      "source": [
        "If precenence is equal\n",
        "\n",
        "Associativity ->\n",
        "\n",
        "Left to right\n",
        "\n",
        "'+' - * /\n",
        "\n",
        "However some are right to left: **\n",
        "2**3**2 = 2**9 = 512"
      ],
      "metadata": {
        "id": "qN7Gkuv3WoZL"
      }
    },
    {
      "cell_type": "markdown",
      "source": [
        "# Decision Sequencing"
      ],
      "metadata": {
        "id": "h5Ag4ij0XoLi"
      }
    },
    {
      "cell_type": "markdown",
      "source": [
        "Temperature Warning"
      ],
      "metadata": {
        "id": "H4Wu3ZWAYRgb"
      }
    },
    {
      "cell_type": "code",
      "source": [
        "# Function to convert C to F\n",
        "\n",
        "def celsius_to_fahrenheit():\n",
        "    celsius = float(input(\"Enter temperature in Celsius: \"))\n",
        "    if celsius > 90:\n",
        "      print(\"Too Hot\")\n",
        "    elif celsius < 30:\n",
        "      print(\"Too cold\")\n",
        "    else:\n",
        "\n",
        "      fahrenheit = (celsius * 9/5) + 32\n",
        "      print(fahrenheit)\n",
        "\n",
        "celsius_to_fahrenheit()\n"
      ],
      "metadata": {
        "colab": {
          "base_uri": "https://localhost:8080/"
        },
        "id": "4I2UyRIzXnw9",
        "outputId": "61914cbf-a043-4d4a-bdd8-2cea26b74e62"
      },
      "execution_count": null,
      "outputs": [
        {
          "output_type": "stream",
          "name": "stdout",
          "text": [
            "Enter temperature in Celsius: 890\n",
            "Too Hot\n"
          ]
        }
      ]
    },
    {
      "cell_type": "markdown",
      "source": [
        "Lexographical operation precedence"
      ],
      "metadata": {
        "id": "02KxTmCzHBjs"
      }
    },
    {
      "cell_type": "code",
      "source": [
        "print(\"A\" < \"a\")"
      ],
      "metadata": {
        "id": "6F_26WGXV3FX",
        "colab": {
          "base_uri": "https://localhost:8080/"
        },
        "outputId": "dbf6a726-b294-48a9-8025-8c805eb0220e"
      },
      "execution_count": 9,
      "outputs": [
        {
          "output_type": "stream",
          "name": "stdout",
          "text": [
            "True\n"
          ]
        }
      ]
    },
    {
      "cell_type": "code",
      "source": [
        "print(\"b\" < \"a\")"
      ],
      "metadata": {
        "colab": {
          "base_uri": "https://localhost:8080/"
        },
        "id": "uIjMsHuRHRLN",
        "outputId": "c6daf94c-a97b-45e6-bb35-8ee7a5563bd5"
      },
      "execution_count": 10,
      "outputs": [
        {
          "output_type": "stream",
          "name": "stdout",
          "text": [
            "False\n"
          ]
        }
      ]
    },
    {
      "cell_type": "code",
      "source": [
        "print(ord(\"A\"))\n",
        "print(ord(\"a\"))"
      ],
      "metadata": {
        "colab": {
          "base_uri": "https://localhost:8080/"
        },
        "id": "0JUoLghDHUSy",
        "outputId": "6743ae00-9c90-4951-9f39-b6c05c935034"
      },
      "execution_count": 13,
      "outputs": [
        {
          "output_type": "stream",
          "name": "stdout",
          "text": [
            "65\n",
            "97\n"
          ]
        }
      ]
    },
    {
      "cell_type": "code",
      "source": [
        "print(chr(65))\n",
        "print(chr(97))"
      ],
      "metadata": {
        "colab": {
          "base_uri": "https://localhost:8080/"
        },
        "id": "MokL84s2JIPm",
        "outputId": "32cfa827-49a0-49be-ea91-43a6d091ea15"
      },
      "execution_count": 16,
      "outputs": [
        {
          "output_type": "stream",
          "name": "stdout",
          "text": [
            "A\n",
            "a\n"
          ]
        }
      ]
    },
    {
      "cell_type": "code",
      "source": [
        "x = 6\n",
        "if x:\n",
        "  print(\"Inside\")\n",
        "print(\"outside\")\n"
      ],
      "metadata": {
        "colab": {
          "base_uri": "https://localhost:8080/"
        },
        "id": "wB_AcwMZJV-N",
        "outputId": "40771d5c-2859-48df-a4e7-81707d839974"
      },
      "execution_count": 17,
      "outputs": [
        {
          "output_type": "stream",
          "name": "stdout",
          "text": [
            "Inside\n",
            "outside\n"
          ]
        }
      ]
    },
    {
      "cell_type": "code",
      "source": [
        "x = 0\n",
        "if x:\n",
        "  print(\"Inside\")\n",
        "print(\"outside\")\n"
      ],
      "metadata": {
        "colab": {
          "base_uri": "https://localhost:8080/"
        },
        "id": "nztUuC8gJj9I",
        "outputId": "70554569-b652-4317-d371-a3fea2eebf8e"
      },
      "execution_count": 18,
      "outputs": [
        {
          "output_type": "stream",
          "name": "stdout",
          "text": [
            "outside\n"
          ]
        }
      ]
    },
    {
      "cell_type": "code",
      "source": [
        "x = 0\n",
        "if (6+8):\n",
        "  print(\"Inside\")\n",
        "print(\"outside\")\n"
      ],
      "metadata": {
        "colab": {
          "base_uri": "https://localhost:8080/"
        },
        "id": "R9weNRrHJmQD",
        "outputId": "5ce3d2c9-b5b6-4507-a2df-d6ac02c36c29"
      },
      "execution_count": 19,
      "outputs": [
        {
          "output_type": "stream",
          "name": "stdout",
          "text": [
            "Inside\n",
            "outside\n"
          ]
        }
      ]
    },
    {
      "cell_type": "code",
      "source": [
        "a = 3-3\n",
        "if a==0:\n",
        "  print(\"Inside\")\n",
        "print(\"outside\")"
      ],
      "metadata": {
        "colab": {
          "base_uri": "https://localhost:8080/"
        },
        "id": "hFHU5SjOKIr8",
        "outputId": "f578ecf7-57c9-4844-d41b-00473a8efb69"
      },
      "execution_count": 21,
      "outputs": [
        {
          "output_type": "stream",
          "name": "stdout",
          "text": [
            "Inside\n",
            "outside\n"
          ]
        }
      ]
    },
    {
      "cell_type": "code",
      "source": [
        "x = \"7\"\n",
        "y = \"6\"\n",
        "if x is y:\n",
        "  print(\"T\")\n",
        "else:\n",
        "  print(\"F\")"
      ],
      "metadata": {
        "colab": {
          "base_uri": "https://localhost:8080/"
        },
        "id": "hIgAw24RM6ag",
        "outputId": "60adb0fd-4da6-42d3-8880-3a6c334e52ad"
      },
      "execution_count": 22,
      "outputs": [
        {
          "output_type": "stream",
          "name": "stdout",
          "text": [
            "F\n"
          ]
        }
      ]
    },
    {
      "cell_type": "code",
      "source": [
        "x = 7\n",
        "y = 7\n",
        "if x is y:\n",
        "  print(\"T\")\n",
        "else:\n",
        "  print(\"F\")"
      ],
      "metadata": {
        "colab": {
          "base_uri": "https://localhost:8080/"
        },
        "id": "16IoWXZqNbJw",
        "outputId": "a98a100d-9e92-4936-9bb2-b774a0fd62dd"
      },
      "execution_count": 23,
      "outputs": [
        {
          "output_type": "stream",
          "name": "stdout",
          "text": [
            "T\n"
          ]
        }
      ]
    },
    {
      "cell_type": "code",
      "source": [
        "x = \"7\"\n",
        "y = \"7\"\n",
        "if x is y:\n",
        "  print(\"T\")\n",
        "else:\n",
        "  print(\"F\")"
      ],
      "metadata": {
        "colab": {
          "base_uri": "https://localhost:8080/"
        },
        "id": "FiCN-EQKNeMB",
        "outputId": "ab4a93e3-90d8-4864-dd92-da7b40b24823"
      },
      "execution_count": 24,
      "outputs": [
        {
          "output_type": "stream",
          "name": "stdout",
          "text": [
            "T\n"
          ]
        }
      ]
    },
    {
      "cell_type": "code",
      "source": [
        "import math\n",
        "\n",
        "def quad():\n",
        "    a = float(input(\"Enter coefficient a: \"))\n",
        "    b = float(input(\"Enter coefficient b: \"))\n",
        "    c = float(input(\"Enter coefficient c: \"))\n",
        "\n",
        "    D = b**2 - 4*a*c\n",
        "\n",
        "    if D > 0:\n",
        "        x1 = (-b + math.sqrt(D)) / (2*a)\n",
        "        x2 = (-b - math.sqrt(D)) / (2*a)\n",
        "        print(f\"Two real and distinct roots: x1 = {x1}, x2 = {x2}\")\n",
        "    elif D == 0:\n",
        "        x1 = -b / (2*a)\n",
        "        print(f\"One real root: x1 = {x1}\")\n",
        "    else:\n",
        "        r = -b / (2*a)\n",
        "        i = math.sqrt(abs(D)) / (2*a)\n",
        "        print(f\"Complex roots: x1 = {r} + {i}i and x2 = {r} - {i}i\")\n",
        "\n",
        "\n",
        "quad()\n",
        "\n",
        "\n"
      ],
      "metadata": {
        "colab": {
          "base_uri": "https://localhost:8080/"
        },
        "id": "0mK6-5uLN9jR",
        "outputId": "4ba00fa8-cd4b-4bb0-dbac-a58b38521426"
      },
      "execution_count": 28,
      "outputs": [
        {
          "output_type": "stream",
          "name": "stdout",
          "text": [
            "Enter coefficient a: 6\n",
            "Enter coefficient b: 8\n",
            "Enter coefficient c: 5\n",
            "Complex roots: x1 = -0.6666666666666666 + 0.6236095644623235i and x2 = -0.6666666666666666 - 0.6236095644623235i\n"
          ]
        }
      ]
    },
    {
      "cell_type": "code",
      "source": [
        "import math\n",
        "\n",
        "def quadratic():\n",
        "    a = float(input(\"Enter coefficient a: \"))\n",
        "    b = float(input(\"Enter coefficient b: \"))\n",
        "    c = float(input(\"Enter coefficient c: \"))\n",
        "\n",
        "    D = b**2 - 4*a*c\n",
        "\n",
        "    if D > 0:\n",
        "        x1 = (-b + math.sqrt(D)) / (2*a)\n",
        "        x2 = (-b - math.sqrt(D)) / (2*a)\n",
        "        print(f\"Two real and distinct roots: x1 = {x1}, x2 = {x2}\")\n",
        "    elif D == 0:\n",
        "        x1 = -b / (2*a)\n",
        "        print(f\"One real root: x1 = {x1}\")\n",
        "    else:\n",
        "        print(\"No real roots\")\n",
        "\n",
        "\n",
        "quadratic()"
      ],
      "metadata": {
        "colab": {
          "base_uri": "https://localhost:8080/"
        },
        "id": "2dgDLCYXP0_o",
        "outputId": "a10cdcb8-2e75-41ff-ea5c-c3a5f8da47ec"
      },
      "execution_count": 34,
      "outputs": [
        {
          "output_type": "stream",
          "name": "stdout",
          "text": [
            "Enter coefficient a: 4\n",
            "Enter coefficient b: 7\n",
            "Enter coefficient c: 4\n",
            "No real roots\n"
          ]
        }
      ]
    },
    {
      "cell_type": "code",
      "source": [
        "def size():\n",
        "  a = float(input(\"Enter Number 1:\"))\n",
        "  b = float(input(\"Enter Number 2:\"))\n",
        "  if a > b:\n",
        "    print(a, \"is the greater number\")\n",
        "  elif a < b:\n",
        "    print(b, \"is the greater number\")\n",
        "  else:\n",
        "    print(\"Both number are Equal\")\n",
        "\n",
        "size()"
      ],
      "metadata": {
        "colab": {
          "base_uri": "https://localhost:8080/"
        },
        "id": "SGxJ4t1ofsGJ",
        "outputId": "c0984fd1-1457-4433-9e33-cce30af7e3f4"
      },
      "execution_count": 36,
      "outputs": [
        {
          "output_type": "stream",
          "name": "stdout",
          "text": [
            "Enter Number 1:7\n",
            "Enter Number 2:3\n",
            "7.0 is the greater number\n"
          ]
        }
      ]
    },
    {
      "cell_type": "code",
      "source": [
        "def g():\n",
        "  a=eval(input(\"Enter the no.1: \"))\n",
        "  b=eval(input(\"Enter the no.2: \"))\n",
        "  c=eval(input(\"Enter the no.3: \"))\n",
        "\n",
        "  if((a>b)and(a>c)):\n",
        "    print(a)\n",
        "  elif((b>a)and(b>c)):\n",
        "    print(b)\n",
        "  else:\n",
        "    print(c)\n",
        "g()"
      ],
      "metadata": {
        "colab": {
          "base_uri": "https://localhost:8080/"
        },
        "id": "BTGFPQVEfomQ",
        "outputId": "7a211e4c-decc-47af-b95b-f1d9086a6e6b"
      },
      "execution_count": 38,
      "outputs": [
        {
          "output_type": "stream",
          "name": "stdout",
          "text": [
            "Enter the no.1: 7\n",
            "Enter the no.2: 6\n",
            "Enter the no.3: 9\n",
            "9\n"
          ]
        }
      ]
    },
    {
      "cell_type": "code",
      "source": [
        "def great():\n",
        "  a=eval(input(\"Enter the no.1: \"))\n",
        "  b=eval(input(\"Enter the no.2: \"))\n",
        "  c=eval(input(\"Enter the no.3: \"))\n",
        "  print(max(a,b,c))\n",
        "\n",
        "great()"
      ],
      "metadata": {
        "colab": {
          "base_uri": "https://localhost:8080/"
        },
        "id": "IaTGp9wXflr-",
        "outputId": "d2f7462b-0c34-4a0a-fd6d-ea6b923989e2"
      },
      "execution_count": 37,
      "outputs": [
        {
          "output_type": "stream",
          "name": "stdout",
          "text": [
            "Enter the no.1: 5\n",
            "Enter the no.2: 7\n",
            "Enter the no.3: 8\n",
            "8\n"
          ]
        }
      ]
    },
    {
      "cell_type": "code",
      "source": [
        "def greater():\n",
        "  a=eval(input(\"Enter the no.1: \"))\n",
        "  b=eval(input(\"Enter the no.2: \"))\n",
        "  c=eval(input(\"Enter the no.3: \"))\n",
        "\n",
        "  if b<a>c:\n",
        "    print(a)\n",
        "  elif a<b>c:\n",
        "    print(b)\n",
        "  else:\n",
        "    print(c)\n",
        "greater()"
      ],
      "metadata": {
        "colab": {
          "base_uri": "https://localhost:8080/"
        },
        "id": "nzbLY6OTfkSJ",
        "outputId": "ccd350fd-51a0-4ff0-aa70-5dbb19a37527"
      },
      "execution_count": 35,
      "outputs": [
        {
          "output_type": "stream",
          "name": "stdout",
          "text": [
            "Enter the no.1: 5\n",
            "Enter the no.2: 8\n",
            "Enter the no.3: 2\n",
            "8\n"
          ]
        }
      ]
    }
  ]
}