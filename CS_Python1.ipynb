{
  "nbformat": 4,
  "nbformat_minor": 0,
  "metadata": {
    "colab": {
      "provenance": [],
      "cell_execution_strategy": "setup",
      "authorship_tag": "ABX9TyOLWFtbMyBx9Zn4VFvZj2N3",
      "include_colab_link": true
    },
    "kernelspec": {
      "name": "python3",
      "display_name": "Python 3"
    },
    "language_info": {
      "name": "python"
    }
  },
  "cells": [
    {
      "cell_type": "markdown",
      "metadata": {
        "id": "view-in-github",
        "colab_type": "text"
      },
      "source": [
        "<a href=\"https://colab.research.google.com/github/harshsinha-12/IITP_CS_Sem1/blob/main/CS_Python1.ipynb\" target=\"_parent\"><img src=\"https://colab.research.google.com/assets/colab-badge.svg\" alt=\"Open In Colab\"/></a>"
      ]
    },
    {
      "cell_type": "markdown",
      "source": [
        "# Functions\n",
        "\n",
        "Code block to print or implement repetative tasks so that they could be called again in a program in one line when needed"
      ],
      "metadata": {
        "id": "FktpYXqee9M3"
      }
    },
    {
      "cell_type": "code",
      "execution_count": 1,
      "metadata": {
        "colab": {
          "base_uri": "https://localhost:8080/"
        },
        "id": "lZsTR0j2eY8_",
        "outputId": "651006d5-0e1b-4bc1-b906-a813b07ed4d1"
      },
      "outputs": [
        {
          "output_type": "stream",
          "name": "stdout",
          "text": [
            "<function hello at 0x7eaf4de29ab0>\n",
            "Hello\n",
            "Programming is Fun!\n"
          ]
        }
      ],
      "source": [
        "def hello():  # defining the function\n",
        "  print(\"Hello\")\n",
        "  print(\"Programming is Fun!\")\n",
        "\n",
        "print(hello) # Address of function\n",
        "hello()       # Calling the function or Invoking the function"
      ]
    },
    {
      "cell_type": "markdown",
      "source": [
        "Take input as User Name\n",
        "\n",
        "print hello name\n",
        "\n",
        "programming is fun"
      ],
      "metadata": {
        "id": "0q6R78RYhSO1"
      }
    },
    {
      "cell_type": "code",
      "source": [
        "def hello(person): # Person is Argument or Parameters\n",
        "  print(\"Hello\", person)\n",
        "  print(\"Programming is Fun!\")\n",
        "\n",
        "person = input(\"What's your name:\")\n",
        "hello(person)"
      ],
      "metadata": {
        "colab": {
          "base_uri": "https://localhost:8080/"
        },
        "id": "Xio62aEDhCI5",
        "outputId": "a75664e2-d8e1-47ca-e391-2392cedcd1bc"
      },
      "execution_count": 2,
      "outputs": [
        {
          "output_type": "stream",
          "name": "stdout",
          "text": [
            "What's your name:Harsh\n",
            "Hello Harsh\n",
            "Programming is Fun!\n"
          ]
        }
      ]
    },
    {
      "cell_type": "code",
      "source": [
        "def hello(person): # Person is Argument\n",
        "  person = input(\"What's your name:\")\n",
        "  print(\"Hello\", person)\n",
        "  print(\"Programming is Fun!\")\n",
        "\n",
        "\n",
        "hello(person)"
      ],
      "metadata": {
        "colab": {
          "base_uri": "https://localhost:8080/"
        },
        "id": "Ui-ePzHBif8f",
        "outputId": "448429b6-8471-45fa-f7f5-bd0689e8c5fa"
      },
      "execution_count": 3,
      "outputs": [
        {
          "output_type": "stream",
          "name": "stdout",
          "text": [
            "What's your name:Harsh\n",
            "Hello Harsh\n",
            "Programming is Fun!\n"
          ]
        }
      ]
    },
    {
      "cell_type": "code",
      "source": [
        "def hello(person, city): # Person and City are Arguments...can pass multiple arguments/parameters\n",
        "  #person = input(\"What's your name:\")\n",
        "  #city = input(\"Where do you live:\")\n",
        "  print(\"Hello\", person, \"from\", city)\n",
        "  print(\"Programming is Fun!\")\n",
        "\n",
        "hello(\"Harsh\", \"Bareilly\")  # Passing the values to the function"
      ],
      "metadata": {
        "colab": {
          "base_uri": "https://localhost:8080/"
        },
        "id": "_7d3yRUTiqL7",
        "outputId": "4bf059df-7b23-4e65-f52e-f4e16ce90891"
      },
      "execution_count": 4,
      "outputs": [
        {
          "output_type": "stream",
          "name": "stdout",
          "text": [
            "Hello Harsh from Bareilly\n",
            "Programming is Fun!\n"
          ]
        }
      ]
    },
    {
      "cell_type": "code",
      "source": [
        "def print_func(i, j):\n",
        "  print(\"Value of i is\", i)\n",
        "  print(\"Value of j is\", j)\n",
        "\n",
        "print_func(10,20)"
      ],
      "metadata": {
        "colab": {
          "base_uri": "https://localhost:8080/"
        },
        "id": "8axgfTgLjuZG",
        "outputId": "bfecf1c3-1da9-4f25-ebd9-777e9d850303"
      },
      "execution_count": 5,
      "outputs": [
        {
          "output_type": "stream",
          "name": "stdout",
          "text": [
            "Value of i is 10\n",
            "Value of j is 20\n"
          ]
        }
      ]
    },
    {
      "cell_type": "code",
      "source": [
        "def print_func(i, j = 100):  # default value\n",
        "  print(\"Value of i is\", i)\n",
        "  print(\"Value of j is\", j)\n",
        "\n",
        "print_func(10,20) # but we passed a number so it gets updated"
      ],
      "metadata": {
        "colab": {
          "base_uri": "https://localhost:8080/"
        },
        "id": "AfjcvvA_kDut",
        "outputId": "3a6c0cf5-f3af-4bcc-8932-9e4799461115"
      },
      "execution_count": 6,
      "outputs": [
        {
          "output_type": "stream",
          "name": "stdout",
          "text": [
            "Value of i is 10\n",
            "Value of j is 20\n"
          ]
        }
      ]
    },
    {
      "cell_type": "code",
      "source": [
        "def print_func(i, j = 100):  # default value\n",
        "  print(\"Value of i is\", i)\n",
        "  print(\"Value of j is\", j)\n",
        "\n",
        "print_func(10)"
      ],
      "metadata": {
        "colab": {
          "base_uri": "https://localhost:8080/"
        },
        "id": "Z2s9Oj2mkQUr",
        "outputId": "d6a764b6-a085-4b56-e384-857f73dca297"
      },
      "execution_count": 7,
      "outputs": [
        {
          "output_type": "stream",
          "name": "stdout",
          "text": [
            "Value of i is 10\n",
            "Value of j is 100\n"
          ]
        }
      ]
    },
    {
      "cell_type": "markdown",
      "source": [
        "# `Question`\n",
        "to print sum of two numbers"
      ],
      "metadata": {
        "id": "4VgZ-R8ikWAq"
      }
    },
    {
      "cell_type": "code",
      "source": [
        "def sum(a, b):\n",
        "  print(\"sum is\", a + b)\n",
        "\n",
        "sum(2, 4)\n",
        "\n"
      ],
      "metadata": {
        "colab": {
          "base_uri": "https://localhost:8080/"
        },
        "id": "ldWCNAcGkSsQ",
        "outputId": "f67fab70-ef76-4906-878d-b46c5b01beb7"
      },
      "execution_count": null,
      "outputs": [
        {
          "output_type": "stream",
          "name": "stdout",
          "text": [
            "sum is 6\n"
          ]
        }
      ]
    },
    {
      "cell_type": "markdown",
      "source": [
        "# or"
      ],
      "metadata": {
        "id": "bWvZAVd5lD-2"
      }
    },
    {
      "cell_type": "code",
      "source": [
        "def sum(a, b):\n",
        "  print(\"sum is\", a + b)\n",
        "\n",
        "a = int(input(\"Enter Number 1:\"))\n",
        "b = int(input(\"Enter Number 2:\"))\n",
        "sum(a, b)\n"
      ],
      "metadata": {
        "colab": {
          "base_uri": "https://localhost:8080/"
        },
        "id": "mGLiRZlDknh0",
        "outputId": "0217acdf-a9a5-4bdf-bc87-d76c7ec36055"
      },
      "execution_count": null,
      "outputs": [
        {
          "output_type": "stream",
          "name": "stdout",
          "text": [
            "Enter Number 1:4\n",
            "Enter Number 2:9\n",
            "sum is 13\n"
          ]
        }
      ]
    },
    {
      "cell_type": "code",
      "source": [
        "def Bday():\n",
        "  print(\"Happy Birthday to You\")\n",
        "  print(\"Happy Birthday to Youuuu\")\n",
        "\n",
        "def name():\n",
        "  Bday()\n",
        "  print(\"Happy Birthday to You\", n)\n",
        "  print(\"Happy Birthday to You\")\n",
        "\n",
        "n = input(\"Enter Name:\")\n",
        "\n",
        "name()"
      ],
      "metadata": {
        "colab": {
          "base_uri": "https://localhost:8080/"
        },
        "id": "x9Ab_SlLl1_L",
        "outputId": "293f7ec3-d55e-4b1f-bff7-c05c2d8b0d5f"
      },
      "execution_count": null,
      "outputs": [
        {
          "output_type": "stream",
          "name": "stdout",
          "text": [
            "Enter Name:Annu\n",
            "Happy Birthday to You\n",
            "Happy Birthday to Youuuu\n",
            "Happy Birthday to You Annu\n",
            "Happy Birthday to You\n"
          ]
        }
      ]
    },
    {
      "cell_type": "markdown",
      "source": [
        "# formal parameters are local variables....accessable only in the body of function (scope of variable local or global)"
      ],
      "metadata": {
        "id": "uXG3JVxunK5Z"
      }
    },
    {
      "cell_type": "code",
      "source": [
        "def func1(x,y):\n",
        "  z = 4 # local variable\n",
        "  print(x,y,z)\n",
        "\n",
        "func1(1,7)\n",
        "\n",
        "# Means Z can't be accessed outside the function\n",
        "\n",
        "# print(z) will give error"
      ],
      "metadata": {
        "colab": {
          "base_uri": "https://localhost:8080/"
        },
        "id": "u7JY01oXnKMb",
        "outputId": "4c65faa3-3270-4042-bfe3-d34b64ae580e"
      },
      "execution_count": null,
      "outputs": [
        {
          "output_type": "stream",
          "name": "stdout",
          "text": [
            "1 7 4\n"
          ]
        }
      ]
    },
    {
      "cell_type": "code",
      "source": [
        "def func1(x,y):\n",
        "  global z #globalized\n",
        "  z = 4 # local variable\n",
        "  print(x,y,z)\n",
        "\n",
        "func1(1,7)\n",
        "print(z)"
      ],
      "metadata": {
        "colab": {
          "base_uri": "https://localhost:8080/"
        },
        "id": "k-4d0b3Youjk",
        "outputId": "f877f261-c450-4603-e2cc-e4c1702dd8c7"
      },
      "execution_count": null,
      "outputs": [
        {
          "output_type": "stream",
          "name": "stdout",
          "text": [
            "1 7 4\n",
            "4\n"
          ]
        }
      ]
    },
    {
      "cell_type": "code",
      "source": [
        "z = 8 # Global\n",
        "def func1(x,y):\n",
        "  z = 4 # local variable\n",
        "  print(x,y,z)\n",
        "\n",
        "func1(1,7)\n",
        "print(z)"
      ],
      "metadata": {
        "colab": {
          "base_uri": "https://localhost:8080/"
        },
        "id": "q1CTM8wlpbJ0",
        "outputId": "5cba92c5-af47-46b8-f21f-eb9ff9dbddff"
      },
      "execution_count": null,
      "outputs": [
        {
          "output_type": "stream",
          "name": "stdout",
          "text": [
            "1 7 4\n",
            "8\n"
          ]
        }
      ]
    },
    {
      "cell_type": "markdown",
      "source": [
        "# Question 2\n",
        "\n",
        "Write a function that takes 2 values from user and print their sum. Sum should be calculated in another function."
      ],
      "metadata": {
        "id": "0SvY8OImqaKR"
      }
    },
    {
      "cell_type": "code",
      "source": [
        "def variable(a, b):\n",
        "  a = int(input(\"Enter Number 1:\"))\n",
        "  b = int(input(\"Enter Number 2:\"))\n",
        "variable(a, b)\n",
        "\n",
        "def sum():\n",
        "  sum = a + b\n",
        "  print(sum)\n",
        "\n",
        "sum()\n"
      ],
      "metadata": {
        "colab": {
          "base_uri": "https://localhost:8080/"
        },
        "id": "eX83F-S1qdeT",
        "outputId": "1ff94edf-4c20-4c14-fc3c-15b322d3deae"
      },
      "execution_count": null,
      "outputs": [
        {
          "output_type": "stream",
          "name": "stdout",
          "text": [
            "Enter Number 1:7\n",
            "Enter Number 2:8\n",
            "13\n"
          ]
        }
      ]
    },
    {
      "cell_type": "code",
      "source": [
        "def addInterest(balance, rate):\n",
        "  newbalance = balance*(1+rate)\n",
        "  #return newbalance\n",
        "\n",
        "def test():\n",
        "  amt = 1000\n",
        "  rate = 0.05\n",
        "  nb = addInterest(amt, rate)\n",
        "  print(amt)\n",
        "\n",
        "test()"
      ],
      "metadata": {
        "colab": {
          "base_uri": "https://localhost:8080/"
        },
        "id": "iMaZjAv3pktO",
        "outputId": "b08365fe-f34e-4387-b474-4583ca66cb72"
      },
      "execution_count": null,
      "outputs": [
        {
          "output_type": "stream",
          "name": "stdout",
          "text": [
            "1000\n"
          ]
        }
      ]
    },
    {
      "cell_type": "code",
      "source": [
        "def addInterest(balance, rate):\n",
        "  newbalance = balance*(1+rate)\n",
        "  return newbalance\n",
        "\n",
        "def test():\n",
        "  amt = 1000\n",
        "  rate = 0.05\n",
        "  nb = addInterest(amt, rate)\n",
        "  print(nb)\n",
        "\n",
        "test()"
      ],
      "metadata": {
        "colab": {
          "base_uri": "https://localhost:8080/"
        },
        "id": "3H4vpgx-rU1I",
        "outputId": "bb5da6c1-603f-4f44-dda6-458219f67fbf"
      },
      "execution_count": null,
      "outputs": [
        {
          "output_type": "stream",
          "name": "stdout",
          "text": [
            "1050.0\n"
          ]
        }
      ]
    },
    {
      "cell_type": "code",
      "source": [
        "def addInterest(balance, rate):\n",
        "  newbalance = balance*(1+rate)\n",
        "  #return newbalance\n",
        "\n",
        "def test():\n",
        "  amt = 1000\n",
        "  rate = 0.05\n",
        "  nb = addInterest(amt, rate)\n",
        "  print(nb)\n",
        "\n",
        "test()"
      ],
      "metadata": {
        "colab": {
          "base_uri": "https://localhost:8080/"
        },
        "id": "6Q9m9-l0rb_-",
        "outputId": "18bb77f8-188b-4d25-f97f-c60e18f42f57"
      },
      "execution_count": null,
      "outputs": [
        {
          "output_type": "stream",
          "name": "stdout",
          "text": [
            "None\n"
          ]
        }
      ]
    },
    {
      "cell_type": "code",
      "source": [
        "def inc(x):\n",
        "  x = x+1\n",
        "\n",
        "  x= 1\n",
        "  inc(x)\n"
      ],
      "metadata": {
        "id": "-34dBR_Ar1C3"
      },
      "execution_count": null,
      "outputs": []
    },
    {
      "cell_type": "code",
      "source": [
        "def sq(n):\n",
        "  square = n*n\n",
        "  print(square)\n",
        "\n",
        "n = int(input(\"Enter the number\"))\n",
        "sq(n)"
      ],
      "metadata": {
        "colab": {
          "base_uri": "https://localhost:8080/"
        },
        "id": "3WpKAkA6r8uR",
        "outputId": "58295699-e66a-4c3a-b9be-20d39fd4ed19"
      },
      "execution_count": null,
      "outputs": [
        {
          "output_type": "stream",
          "name": "stdout",
          "text": [
            "Enter the number8\n",
            "64\n"
          ]
        }
      ]
    },
    {
      "cell_type": "code",
      "source": [
        "def sq(n):\n",
        "  square = n*n\n",
        "  return square\n",
        "\n",
        "sq(9)"
      ],
      "metadata": {
        "colab": {
          "base_uri": "https://localhost:8080/"
        },
        "id": "mS5JN3Xgsh3Y",
        "outputId": "60196081-2654-407c-f99a-6801b23c3477"
      },
      "execution_count": null,
      "outputs": [
        {
          "output_type": "execute_result",
          "data": {
            "text/plain": [
              "81"
            ]
          },
          "metadata": {},
          "execution_count": 24
        }
      ]
    },
    {
      "cell_type": "code",
      "source": [
        "def area(l,b):\n",
        "  a = l*b\n",
        "  return a\n",
        "print(\"Area of Rectangle is:\")\n",
        "area(9,6)\n"
      ],
      "metadata": {
        "colab": {
          "base_uri": "https://localhost:8080/"
        },
        "id": "N98URQU3ycH-",
        "outputId": "3e8df821-9bac-4c1c-c8b7-c911e76807d1"
      },
      "execution_count": null,
      "outputs": [
        {
          "output_type": "stream",
          "name": "stdout",
          "text": [
            "Area of Rectangle is:\n"
          ]
        },
        {
          "output_type": "execute_result",
          "data": {
            "text/plain": [
              "54"
            ]
          },
          "metadata": {},
          "execution_count": 26
        }
      ]
    },
    {
      "cell_type": "code",
      "source": [
        "# Function to convert C to F\n",
        "\n",
        "def celsius_to_fahrenheit(celsius):\n",
        "    fahrenheit = (celsius * 9/5) + 32\n",
        "    return fahrenheit\n",
        "\n",
        "celsius = float(input(\"Enter temperature in Celsius: \"))\n",
        "\n",
        "fahrenheit = celsius_to_fahrenheit(celsius)\n",
        "print(celsius,\"degrees Celsius is equal to\", fahrenheit, \"degrees Fahrenheit\")\n"
      ],
      "metadata": {
        "colab": {
          "base_uri": "https://localhost:8080/"
        },
        "id": "ksDA69eQyDho",
        "outputId": "5310f7d7-5c8f-473f-8590-486c35229e67"
      },
      "execution_count": null,
      "outputs": [
        {
          "output_type": "stream",
          "name": "stdout",
          "text": [
            "Enter temperature in Celsius: 100\n",
            "100.0 degrees Celsius is equal to 212.0 degrees Fahrenheit\n"
          ]
        }
      ]
    },
    {
      "cell_type": "code",
      "source": [
        "print(celsius_to_fahrenheit(35))\n",
        "print(celsius_to_fahrenheit(354))\n",
        "print(celsius_to_fahrenheit(325))\n",
        "print(celsius_to_fahrenheit(14))\n",
        "print(celsius_to_fahrenheit(16))\n",
        "print(celsius_to_fahrenheit(179))\n",
        "print(celsius_to_fahrenheit(98.6))"
      ],
      "metadata": {
        "colab": {
          "base_uri": "https://localhost:8080/"
        },
        "id": "IzO3N6W1zCf7",
        "outputId": "810171a5-207e-451a-dfd6-82ec067ecfa3"
      },
      "execution_count": null,
      "outputs": [
        {
          "output_type": "stream",
          "name": "stdout",
          "text": [
            "95.0\n",
            "669.2\n",
            "617.0\n",
            "57.2\n",
            "60.8\n",
            "354.2\n",
            "209.48\n"
          ]
        }
      ]
    },
    {
      "cell_type": "code",
      "source": [
        "def convertToGram():\n",
        "  i = float(input(\"Enter weight in Grams:\"))\n",
        "  g = i * 1000\n",
        "  print(\"Weight in grams is\",g )\n",
        "\n",
        "convertToGram()"
      ],
      "metadata": {
        "colab": {
          "base_uri": "https://localhost:8080/"
        },
        "id": "LFEd64anOu4y",
        "outputId": "787cf18b-2a6b-4d02-921a-80ed09730291"
      },
      "execution_count": 10,
      "outputs": [
        {
          "output_type": "stream",
          "name": "stdout",
          "text": [
            "Enter weight in Grams:75\n",
            "Weight in grams is 75000.0\n"
          ]
        }
      ]
    },
    {
      "cell_type": "code",
      "source": [
        "def cov(kgwt):\n",
        "  gmwt = 1000*kgwt\n",
        "  return gmwt\n",
        "\n",
        "def main():\n",
        "  wt = eval(input(\"W in kg:\"))\n",
        "  gmwt = cov(wt)\n",
        "  print(\"W in gm\", gmwt)\n",
        "\n",
        "main()"
      ],
      "metadata": {
        "colab": {
          "base_uri": "https://localhost:8080/"
        },
        "id": "G8Eb6BogPmou",
        "outputId": "6dcc81c4-378e-4241-aaf8-b6d169113592"
      },
      "execution_count": 11,
      "outputs": [
        {
          "output_type": "stream",
          "name": "stdout",
          "text": [
            "W in kg:70\n",
            "W in gm 70000\n"
          ]
        }
      ]
    },
    {
      "cell_type": "markdown",
      "source": [
        "# BITWISE OPERATORS"
      ],
      "metadata": {
        "id": "6-S-3FtfTbGU"
      }
    },
    {
      "cell_type": "markdown",
      "source": [
        "Binary AND &"
      ],
      "metadata": {
        "id": "jNX7crXZTgkL"
      }
    },
    {
      "cell_type": "code",
      "source": [
        "p = 6\n",
        "q = 7\n",
        "print(p&q)"
      ],
      "metadata": {
        "colab": {
          "base_uri": "https://localhost:8080/"
        },
        "id": "77SAZbAzTBIp",
        "outputId": "63d91f21-d430-4416-b1ce-4d5f8bcb51e8"
      },
      "execution_count": 12,
      "outputs": [
        {
          "output_type": "stream",
          "name": "stdout",
          "text": [
            "6\n"
          ]
        }
      ]
    },
    {
      "cell_type": "markdown",
      "source": [
        "Binary OR |"
      ],
      "metadata": {
        "id": "LFDtXxBtTl3U"
      }
    },
    {
      "cell_type": "code",
      "source": [
        "p = 6\n",
        "q = 7\n",
        "print(p|q)"
      ],
      "metadata": {
        "colab": {
          "base_uri": "https://localhost:8080/"
        },
        "id": "tEjGLLV3TGdH",
        "outputId": "ad26ed6c-a947-4bdd-f779-8afd5ba6aeca"
      },
      "execution_count": 13,
      "outputs": [
        {
          "output_type": "stream",
          "name": "stdout",
          "text": [
            "7\n"
          ]
        }
      ]
    },
    {
      "cell_type": "markdown",
      "source": [
        "Binary XOR ^"
      ],
      "metadata": {
        "id": "OkX7SW5YTwXI"
      }
    },
    {
      "cell_type": "code",
      "source": [
        "p = 6\n",
        "q = 7\n",
        "print(p^q)"
      ],
      "metadata": {
        "colab": {
          "base_uri": "https://localhost:8080/"
        },
        "id": "g49ujgfST0F0",
        "outputId": "e9bceb7b-acd1-40f3-b4fe-36bf7a7121b1"
      },
      "execution_count": 14,
      "outputs": [
        {
          "output_type": "stream",
          "name": "stdout",
          "text": [
            "1\n"
          ]
        }
      ]
    },
    {
      "cell_type": "markdown",
      "source": [
        "Binary Complement ~ (Unary Operation)"
      ],
      "metadata": {
        "id": "BN9Fg87dT48j"
      }
    },
    {
      "cell_type": "code",
      "source": [
        "p = 6\n",
        "q = 7\n",
        "print(~p)\n",
        "print(~q)"
      ],
      "metadata": {
        "colab": {
          "base_uri": "https://localhost:8080/"
        },
        "id": "kECaQVCPT4Qj",
        "outputId": "49d9d3aa-c071-4769-9027-cef594787685"
      },
      "execution_count": 15,
      "outputs": [
        {
          "output_type": "stream",
          "name": "stdout",
          "text": [
            "-7\n",
            "-8\n"
          ]
        }
      ]
    },
    {
      "cell_type": "markdown",
      "source": [
        "<< Binary Left Shift"
      ],
      "metadata": {
        "id": "MHpG-9aaUK8t"
      }
    },
    {
      "cell_type": "code",
      "source": [
        "p = 6\n",
        "q = 7\n",
        "print(p<<q)"
      ],
      "metadata": {
        "colab": {
          "base_uri": "https://localhost:8080/"
        },
        "id": "KcTAsPbXUN0E",
        "outputId": "882922c9-ef72-4eb5-fbf1-28fe4a8aac0d"
      },
      "execution_count": 16,
      "outputs": [
        {
          "output_type": "stream",
          "name": "stdout",
          "text": [
            "768\n"
          ]
        }
      ]
    },
    {
      "cell_type": "markdown",
      "source": [
        "'>>' Binary Right Shift"
      ],
      "metadata": {
        "id": "R95WCXYlUxFJ"
      }
    },
    {
      "cell_type": "code",
      "source": [
        "p = 6\n",
        "q = 7\n",
        "print(p>>q)"
      ],
      "metadata": {
        "colab": {
          "base_uri": "https://localhost:8080/"
        },
        "id": "9IrDxRz0UT1e",
        "outputId": "49565ac4-a634-4b54-c84b-ae6f49e25a46"
      },
      "execution_count": 17,
      "outputs": [
        {
          "output_type": "stream",
          "name": "stdout",
          "text": [
            "0\n"
          ]
        }
      ]
    },
    {
      "cell_type": "markdown",
      "source": [
        "Logical and"
      ],
      "metadata": {
        "id": "PaYUvF9CU466"
      }
    },
    {
      "cell_type": "code",
      "source": [
        "p = 6\n",
        "q = 7\n",
        "print(p and q)"
      ],
      "metadata": {
        "colab": {
          "base_uri": "https://localhost:8080/"
        },
        "id": "z4dW8FduU-4a",
        "outputId": "d719640f-10d3-4aeb-bcae-fadaedd329a2"
      },
      "execution_count": 18,
      "outputs": [
        {
          "output_type": "stream",
          "name": "stdout",
          "text": [
            "7\n"
          ]
        }
      ]
    },
    {
      "cell_type": "markdown",
      "source": [
        "Logical or"
      ],
      "metadata": {
        "id": "2gwkDB_lVDRq"
      }
    },
    {
      "cell_type": "code",
      "source": [
        "p = 6\n",
        "q = 7\n",
        "print(p or q)"
      ],
      "metadata": {
        "colab": {
          "base_uri": "https://localhost:8080/"
        },
        "id": "iqdKt_nNVFlU",
        "outputId": "caae12e9-501d-4fa6-cfbc-5bb3af25a91e"
      },
      "execution_count": 19,
      "outputs": [
        {
          "output_type": "stream",
          "name": "stdout",
          "text": [
            "6\n"
          ]
        }
      ]
    },
    {
      "cell_type": "markdown",
      "source": [
        "Logical not"
      ],
      "metadata": {
        "id": "jgo_4Zu7VN7Z"
      }
    },
    {
      "cell_type": "code",
      "source": [
        "p = 6\n",
        "q = 7\n",
        "print(not(p,q))"
      ],
      "metadata": {
        "colab": {
          "base_uri": "https://localhost:8080/"
        },
        "id": "vXVpY3mfVJgg",
        "outputId": "a65c6a8e-b700-461f-b4f2-3ad1ebb5b046"
      },
      "execution_count": 22,
      "outputs": [
        {
          "output_type": "stream",
          "name": "stdout",
          "text": [
            "False\n"
          ]
        }
      ]
    },
    {
      "cell_type": "code",
      "source": [
        "p = 0\n",
        "q = 0\n",
        "print(not(p,q))"
      ],
      "metadata": {
        "colab": {
          "base_uri": "https://localhost:8080/"
        },
        "id": "JQGjyVJxVarB",
        "outputId": "37a551d3-86e5-4204-9e63-45e1aee79725"
      },
      "execution_count": 23,
      "outputs": [
        {
          "output_type": "stream",
          "name": "stdout",
          "text": [
            "False\n"
          ]
        }
      ]
    },
    {
      "cell_type": "code",
      "source": [
        "p = 0\n",
        "q = 1\n",
        "print(not(p,q))"
      ],
      "metadata": {
        "colab": {
          "base_uri": "https://localhost:8080/"
        },
        "id": "nVto96BaVeDi",
        "outputId": "ed536b8d-9946-43a9-b0ee-02ce8d5b7bdf"
      },
      "execution_count": 24,
      "outputs": [
        {
          "output_type": "stream",
          "name": "stdout",
          "text": [
            "False\n"
          ]
        }
      ]
    },
    {
      "cell_type": "code",
      "source": [
        "p = 1\n",
        "q = 0\n",
        "print(not(p,q))"
      ],
      "metadata": {
        "colab": {
          "base_uri": "https://localhost:8080/"
        },
        "id": "yqio3e47VgbQ",
        "outputId": "18f1160b-7dee-4fd3-d441-51964ba37647"
      },
      "execution_count": 25,
      "outputs": [
        {
          "output_type": "stream",
          "name": "stdout",
          "text": [
            "False\n"
          ]
        }
      ]
    },
    {
      "cell_type": "markdown",
      "source": [
        "Membership operators"
      ],
      "metadata": {
        "id": "cjGQYMGjVrbZ"
      }
    },
    {
      "cell_type": "code",
      "source": [
        "p = 7\n",
        "q = [4,6,7]\n",
        "print(p in q)\n",
        "print(8 in q)"
      ],
      "metadata": {
        "colab": {
          "base_uri": "https://localhost:8080/"
        },
        "id": "HCoLNhXlVqnE",
        "outputId": "004e2502-2434-448d-e466-04c156835be2"
      },
      "execution_count": 27,
      "outputs": [
        {
          "output_type": "stream",
          "name": "stdout",
          "text": [
            "True\n",
            "False\n"
          ]
        }
      ]
    },
    {
      "cell_type": "markdown",
      "source": [
        "Operator Precedence\n",
        "\n",
        "**\n",
        "\n",
        "~ + -\n",
        "\n",
        "'*' / % //\n",
        "\n",
        "'+' -\n",
        "\n",
        "'>>' <<\n",
        "\n",
        "&\n",
        "\n",
        "^ |\n",
        "\n",
        "< = < > > =\n",
        "\n",
        "<> == !=\n",
        "\n",
        "= %= /= //= -= +=\n",
        "\n",
        "is is not\n",
        "\n",
        "in not in\n",
        "\n",
        "not or and"
      ],
      "metadata": {
        "id": "g30uODWPV3R_"
      }
    },
    {
      "cell_type": "markdown",
      "source": [
        "If precenence is equal\n",
        "\n",
        "Associativity ->\n",
        "\n",
        "Left to right\n",
        "\n",
        "'+' - * /\n",
        "\n",
        "However some are right to left: **\n",
        "2**3**2 = 2**9 = 512"
      ],
      "metadata": {
        "id": "qN7Gkuv3WoZL"
      }
    },
    {
      "cell_type": "markdown",
      "source": [
        "# Decision Sequencing"
      ],
      "metadata": {
        "id": "h5Ag4ij0XoLi"
      }
    },
    {
      "cell_type": "markdown",
      "source": [
        "Temperature Warning"
      ],
      "metadata": {
        "id": "H4Wu3ZWAYRgb"
      }
    },
    {
      "cell_type": "code",
      "source": [
        "# Function to convert C to F\n",
        "\n",
        "def celsius_to_fahrenheit():\n",
        "    celsius = float(input(\"Enter temperature in Celsius: \"))\n",
        "    if celsius > 90:\n",
        "      print(\"Too Hot\")\n",
        "    elif celsius < 30:\n",
        "      print(\"Too cold\")\n",
        "    else:\n",
        "\n",
        "      fahrenheit = (celsius * 9/5) + 32\n",
        "      print(fahrenheit)\n",
        "\n",
        "celsius_to_fahrenheit()\n"
      ],
      "metadata": {
        "colab": {
          "base_uri": "https://localhost:8080/"
        },
        "id": "4I2UyRIzXnw9",
        "outputId": "61914cbf-a043-4d4a-bdd8-2cea26b74e62"
      },
      "execution_count": 41,
      "outputs": [
        {
          "output_type": "stream",
          "name": "stdout",
          "text": [
            "Enter temperature in Celsius: 890\n",
            "Too Hot\n"
          ]
        }
      ]
    },
    {
      "cell_type": "code",
      "source": [],
      "metadata": {
        "id": "6F_26WGXV3FX"
      },
      "execution_count": null,
      "outputs": []
    }
  ]
}