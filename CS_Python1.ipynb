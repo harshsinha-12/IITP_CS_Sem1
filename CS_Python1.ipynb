{
  "nbformat": 4,
  "nbformat_minor": 0,
  "metadata": {
    "colab": {
      "provenance": [],
      "cell_execution_strategy": "setup",
      "authorship_tag": "ABX9TyP2a538/Y4ANVajNNr0MzAv",
      "include_colab_link": true
    },
    "kernelspec": {
      "name": "python3",
      "display_name": "Python 3"
    },
    "language_info": {
      "name": "python"
    }
  },
  "cells": [
    {
      "cell_type": "markdown",
      "metadata": {
        "id": "view-in-github",
        "colab_type": "text"
      },
      "source": [
        "<a href=\"https://colab.research.google.com/github/harshsinha-12/IITP_CS_Sem1/blob/main/CS_Python1.ipynb\" target=\"_parent\"><img src=\"https://colab.research.google.com/assets/colab-badge.svg\" alt=\"Open In Colab\"/></a>"
      ]
    },
    {
      "cell_type": "markdown",
      "source": [
        "# Functions\n",
        "\n",
        "Code block to print or implement repetative tasks so that they could be called again in a program in one line when needed"
      ],
      "metadata": {
        "id": "FktpYXqee9M3"
      }
    },
    {
      "cell_type": "code",
      "execution_count": 1,
      "metadata": {
        "colab": {
          "base_uri": "https://localhost:8080/"
        },
        "id": "lZsTR0j2eY8_",
        "outputId": "8cd49e06-4fc1-4e8d-a8e3-5c23741317f3"
      },
      "outputs": [
        {
          "output_type": "stream",
          "name": "stdout",
          "text": [
            "<function hello at 0x78c6dd7c1ab0>\n",
            "Hello\n",
            "Programming is Fun!\n"
          ]
        }
      ],
      "source": [
        "def hello():  # defining the function\n",
        "  print(\"Hello\")\n",
        "  print(\"Programming is Fun!\")\n",
        "\n",
        "print(hello) # Address of function\n",
        "hello()       # Calling the function or Invoking the function"
      ]
    },
    {
      "cell_type": "markdown",
      "source": [
        "Take input as User Name\n",
        "\n",
        "print hello name\n",
        "\n",
        "programming is fun"
      ],
      "metadata": {
        "id": "0q6R78RYhSO1"
      }
    },
    {
      "cell_type": "code",
      "source": [
        "def hello(person): # Person is Argument or Parameters\n",
        "  print(\"Hello\", person)\n",
        "  print(\"Programming is Fun!\")\n",
        "\n",
        "person = input(\"What's your name:\")\n",
        "hello(person)"
      ],
      "metadata": {
        "colab": {
          "base_uri": "https://localhost:8080/"
        },
        "id": "Xio62aEDhCI5",
        "outputId": "4a7f69e2-598e-49ac-f180-32356639b7d6"
      },
      "execution_count": 11,
      "outputs": [
        {
          "output_type": "stream",
          "name": "stdout",
          "text": [
            "What's your name:Harsh\n",
            "Hello Harsh\n",
            "Programming is Fun!\n"
          ]
        }
      ]
    },
    {
      "cell_type": "code",
      "source": [
        "def hello(person): # Person is Argument\n",
        "  person = input(\"What's your name:\")\n",
        "  print(\"Hello\", person)\n",
        "  print(\"Programming is Fun!\")\n",
        "\n",
        "\n",
        "hello(person)"
      ],
      "metadata": {
        "colab": {
          "base_uri": "https://localhost:8080/"
        },
        "id": "Ui-ePzHBif8f",
        "outputId": "41fd9cc8-f6fb-4eea-8f17-38e57c1a489f"
      },
      "execution_count": 12,
      "outputs": [
        {
          "output_type": "stream",
          "name": "stdout",
          "text": [
            "What's your name:Harsh\n",
            "Hello Harsh\n",
            "Programming is Fun!\n"
          ]
        }
      ]
    },
    {
      "cell_type": "code",
      "source": [
        "def hello(person, city): # Person and City are Arguments...can pass multiple arguments/parameters\n",
        "  #person = input(\"What's your name:\")\n",
        "  #city = input(\"Where do you live:\")\n",
        "  print(\"Hello\", person, \"from\", city)\n",
        "  print(\"Programming is Fun!\")\n",
        "\n",
        "hello(\"Harsh\", \"Bareilly\")  # Passing the values to the function"
      ],
      "metadata": {
        "colab": {
          "base_uri": "https://localhost:8080/"
        },
        "id": "_7d3yRUTiqL7",
        "outputId": "672147a5-00ea-4949-f077-e20fa6e6f473"
      },
      "execution_count": 4,
      "outputs": [
        {
          "output_type": "stream",
          "name": "stdout",
          "text": [
            "Hello Harsh from Bareilly\n",
            "Programming is Fun!\n"
          ]
        }
      ]
    },
    {
      "cell_type": "code",
      "source": [
        "def print_func(i, j):\n",
        "  print(\"Value of i is\", i)\n",
        "  print(\"Value of j is\", j)\n",
        "\n",
        "print_func(10,20)"
      ],
      "metadata": {
        "colab": {
          "base_uri": "https://localhost:8080/"
        },
        "id": "8axgfTgLjuZG",
        "outputId": "a07a7b83-8c69-4594-adb9-e1a85ff0434e"
      },
      "execution_count": 5,
      "outputs": [
        {
          "output_type": "stream",
          "name": "stdout",
          "text": [
            "Value of i is 10\n",
            "Value of j is 20\n"
          ]
        }
      ]
    },
    {
      "cell_type": "code",
      "source": [
        "def print_func(i, j = 100):  # default value\n",
        "  print(\"Value of i is\", i)\n",
        "  print(\"Value of j is\", j)\n",
        "\n",
        "print_func(10,20) # but we passed a number so it gets updated"
      ],
      "metadata": {
        "colab": {
          "base_uri": "https://localhost:8080/"
        },
        "id": "AfjcvvA_kDut",
        "outputId": "667dcdf7-dee7-4394-f3cb-1b01877f7fec"
      },
      "execution_count": 6,
      "outputs": [
        {
          "output_type": "stream",
          "name": "stdout",
          "text": [
            "Value of i is 10\n",
            "Value of j is 20\n"
          ]
        }
      ]
    },
    {
      "cell_type": "code",
      "source": [
        "def print_func(i, j = 100):  # default value\n",
        "  print(\"Value of i is\", i)\n",
        "  print(\"Value of j is\", j)\n",
        "\n",
        "print_func(10)"
      ],
      "metadata": {
        "colab": {
          "base_uri": "https://localhost:8080/"
        },
        "id": "Z2s9Oj2mkQUr",
        "outputId": "d2a4fe33-69f1-4d99-d723-7ca4985796ce"
      },
      "execution_count": 7,
      "outputs": [
        {
          "output_type": "stream",
          "name": "stdout",
          "text": [
            "Value of i is 10\n",
            "Value of j is 100\n"
          ]
        }
      ]
    },
    {
      "cell_type": "markdown",
      "source": [
        "# `Question`\n",
        "to print sum of two numbers"
      ],
      "metadata": {
        "id": "4VgZ-R8ikWAq"
      }
    },
    {
      "cell_type": "code",
      "source": [
        "def sum(a, b):\n",
        "  print(\"sum is\", a + b)\n",
        "\n",
        "sum(2, 4)\n",
        "\n"
      ],
      "metadata": {
        "colab": {
          "base_uri": "https://localhost:8080/"
        },
        "id": "ldWCNAcGkSsQ",
        "outputId": "f67fab70-ef76-4906-878d-b46c5b01beb7"
      },
      "execution_count": null,
      "outputs": [
        {
          "output_type": "stream",
          "name": "stdout",
          "text": [
            "sum is 6\n"
          ]
        }
      ]
    },
    {
      "cell_type": "markdown",
      "source": [
        "# or"
      ],
      "metadata": {
        "id": "bWvZAVd5lD-2"
      }
    },
    {
      "cell_type": "code",
      "source": [
        "def sum(a, b):\n",
        "  print(\"sum is\", a + b)\n",
        "\n",
        "a = int(input(\"Enter Number 1:\"))\n",
        "b = int(input(\"Enter Number 2:\"))\n",
        "sum(a, b)\n"
      ],
      "metadata": {
        "colab": {
          "base_uri": "https://localhost:8080/"
        },
        "id": "mGLiRZlDknh0",
        "outputId": "0217acdf-a9a5-4bdf-bc87-d76c7ec36055"
      },
      "execution_count": null,
      "outputs": [
        {
          "output_type": "stream",
          "name": "stdout",
          "text": [
            "Enter Number 1:4\n",
            "Enter Number 2:9\n",
            "sum is 13\n"
          ]
        }
      ]
    },
    {
      "cell_type": "code",
      "source": [
        "def Bday():\n",
        "  print(\"Happy Birthday to You\")\n",
        "  print(\"Happy Birthday to Youuuu\")\n",
        "\n",
        "def name():\n",
        "  Bday()\n",
        "  print(\"Happy Birthday to You\", n)\n",
        "  print(\"Happy Birthday to You\")\n",
        "\n",
        "n = input(\"Enter Name:\")\n",
        "\n",
        "name()"
      ],
      "metadata": {
        "colab": {
          "base_uri": "https://localhost:8080/"
        },
        "id": "x9Ab_SlLl1_L",
        "outputId": "293f7ec3-d55e-4b1f-bff7-c05c2d8b0d5f"
      },
      "execution_count": null,
      "outputs": [
        {
          "output_type": "stream",
          "name": "stdout",
          "text": [
            "Enter Name:Annu\n",
            "Happy Birthday to You\n",
            "Happy Birthday to Youuuu\n",
            "Happy Birthday to You Annu\n",
            "Happy Birthday to You\n"
          ]
        }
      ]
    },
    {
      "cell_type": "markdown",
      "source": [
        "# formal parameters are local variables....accessable only in the body of function (scope of variable local or global)"
      ],
      "metadata": {
        "id": "uXG3JVxunK5Z"
      }
    },
    {
      "cell_type": "code",
      "source": [
        "def func1(x,y):\n",
        "  z = 4 # local variable\n",
        "  print(x,y,z)\n",
        "\n",
        "func1(1,7)\n",
        "\n",
        "# Means Z can't be accessed outside the function\n",
        "\n",
        "# print(z) will give error"
      ],
      "metadata": {
        "colab": {
          "base_uri": "https://localhost:8080/"
        },
        "id": "u7JY01oXnKMb",
        "outputId": "4c65faa3-3270-4042-bfe3-d34b64ae580e"
      },
      "execution_count": null,
      "outputs": [
        {
          "output_type": "stream",
          "name": "stdout",
          "text": [
            "1 7 4\n"
          ]
        }
      ]
    },
    {
      "cell_type": "code",
      "source": [
        "def func1(x,y):\n",
        "  global z #globalized\n",
        "  z = 4 # local variable\n",
        "  print(x,y,z)\n",
        "\n",
        "func1(1,7)\n",
        "print(z)"
      ],
      "metadata": {
        "colab": {
          "base_uri": "https://localhost:8080/"
        },
        "id": "k-4d0b3Youjk",
        "outputId": "f877f261-c450-4603-e2cc-e4c1702dd8c7"
      },
      "execution_count": null,
      "outputs": [
        {
          "output_type": "stream",
          "name": "stdout",
          "text": [
            "1 7 4\n",
            "4\n"
          ]
        }
      ]
    },
    {
      "cell_type": "code",
      "source": [
        "z = 8 # Global\n",
        "def func1(x,y):\n",
        "  z = 4 # local variable\n",
        "  print(x,y,z)\n",
        "\n",
        "func1(1,7)\n",
        "print(z)"
      ],
      "metadata": {
        "colab": {
          "base_uri": "https://localhost:8080/"
        },
        "id": "q1CTM8wlpbJ0",
        "outputId": "5cba92c5-af47-46b8-f21f-eb9ff9dbddff"
      },
      "execution_count": null,
      "outputs": [
        {
          "output_type": "stream",
          "name": "stdout",
          "text": [
            "1 7 4\n",
            "8\n"
          ]
        }
      ]
    },
    {
      "cell_type": "markdown",
      "source": [
        "# Question 2\n",
        "\n",
        "Write a function that takes 2 values from user and print their sum. Sum should be calculated in another function."
      ],
      "metadata": {
        "id": "0SvY8OImqaKR"
      }
    },
    {
      "cell_type": "code",
      "source": [
        "def variable(a, b):\n",
        "  a = int(input(\"Enter Number 1:\"))\n",
        "  b = int(input(\"Enter Number 2:\"))\n",
        "variable(a, b)\n",
        "\n",
        "def sum():\n",
        "  sum = a + b\n",
        "  print(sum)\n",
        "\n",
        "sum()\n"
      ],
      "metadata": {
        "colab": {
          "base_uri": "https://localhost:8080/"
        },
        "id": "eX83F-S1qdeT",
        "outputId": "1ff94edf-4c20-4c14-fc3c-15b322d3deae"
      },
      "execution_count": null,
      "outputs": [
        {
          "output_type": "stream",
          "name": "stdout",
          "text": [
            "Enter Number 1:7\n",
            "Enter Number 2:8\n",
            "13\n"
          ]
        }
      ]
    },
    {
      "cell_type": "code",
      "source": [
        "def addInterest(balance, rate):\n",
        "  newbalance = balance*(1+rate)\n",
        "  #return newbalance\n",
        "\n",
        "def test():\n",
        "  amt = 1000\n",
        "  rate = 0.05\n",
        "  nb = addInterest(amt, rate)\n",
        "  print(amt)\n",
        "\n",
        "test()"
      ],
      "metadata": {
        "colab": {
          "base_uri": "https://localhost:8080/"
        },
        "id": "iMaZjAv3pktO",
        "outputId": "b08365fe-f34e-4387-b474-4583ca66cb72"
      },
      "execution_count": 14,
      "outputs": [
        {
          "output_type": "stream",
          "name": "stdout",
          "text": [
            "1000\n"
          ]
        }
      ]
    },
    {
      "cell_type": "code",
      "source": [
        "def addInterest(balance, rate):\n",
        "  newbalance = balance*(1+rate)\n",
        "  return newbalance\n",
        "\n",
        "def test():\n",
        "  amt = 1000\n",
        "  rate = 0.05\n",
        "  nb = addInterest(amt, rate)\n",
        "  print(nb)\n",
        "\n",
        "test()"
      ],
      "metadata": {
        "colab": {
          "base_uri": "https://localhost:8080/"
        },
        "id": "3H4vpgx-rU1I",
        "outputId": "bb5da6c1-603f-4f44-dda6-458219f67fbf"
      },
      "execution_count": 17,
      "outputs": [
        {
          "output_type": "stream",
          "name": "stdout",
          "text": [
            "1050.0\n"
          ]
        }
      ]
    },
    {
      "cell_type": "code",
      "source": [
        "def addInterest(balance, rate):\n",
        "  newbalance = balance*(1+rate)\n",
        "  #return newbalance\n",
        "\n",
        "def test():\n",
        "  amt = 1000\n",
        "  rate = 0.05\n",
        "  nb = addInterest(amt, rate)\n",
        "  print(nb)\n",
        "\n",
        "test()"
      ],
      "metadata": {
        "colab": {
          "base_uri": "https://localhost:8080/"
        },
        "id": "6Q9m9-l0rb_-",
        "outputId": "18bb77f8-188b-4d25-f97f-c60e18f42f57"
      },
      "execution_count": 18,
      "outputs": [
        {
          "output_type": "stream",
          "name": "stdout",
          "text": [
            "None\n"
          ]
        }
      ]
    },
    {
      "cell_type": "code",
      "source": [
        "def inc(x):\n",
        "  x = x+1\n",
        "\n",
        "  x= 1\n",
        "  inc(x)\n"
      ],
      "metadata": {
        "id": "-34dBR_Ar1C3"
      },
      "execution_count": null,
      "outputs": []
    },
    {
      "cell_type": "code",
      "source": [
        "def sq(n):\n",
        "  square = n*n\n",
        "  print(square)\n",
        "\n",
        "n = int(input(\"Enter the number\"))\n",
        "sq(n)"
      ],
      "metadata": {
        "colab": {
          "base_uri": "https://localhost:8080/"
        },
        "id": "3WpKAkA6r8uR",
        "outputId": "58295699-e66a-4c3a-b9be-20d39fd4ed19"
      },
      "execution_count": 23,
      "outputs": [
        {
          "output_type": "stream",
          "name": "stdout",
          "text": [
            "Enter the number8\n",
            "64\n"
          ]
        }
      ]
    },
    {
      "cell_type": "code",
      "source": [
        "def sq(n):\n",
        "  square = n*n\n",
        "  return square\n",
        "\n",
        "sq(9)"
      ],
      "metadata": {
        "colab": {
          "base_uri": "https://localhost:8080/"
        },
        "id": "mS5JN3Xgsh3Y",
        "outputId": "60196081-2654-407c-f99a-6801b23c3477"
      },
      "execution_count": 24,
      "outputs": [
        {
          "output_type": "execute_result",
          "data": {
            "text/plain": [
              "81"
            ]
          },
          "metadata": {},
          "execution_count": 24
        }
      ]
    },
    {
      "cell_type": "code",
      "source": [
        "def area(l,b):\n",
        "  a = l*b\n",
        "  return a\n",
        "print(\"Area of Rectangle is:\")\n",
        "area(9,6)\n"
      ],
      "metadata": {
        "colab": {
          "base_uri": "https://localhost:8080/"
        },
        "id": "N98URQU3ycH-",
        "outputId": "3e8df821-9bac-4c1c-c8b7-c911e76807d1"
      },
      "execution_count": 26,
      "outputs": [
        {
          "output_type": "stream",
          "name": "stdout",
          "text": [
            "Area of Rectangle is:\n"
          ]
        },
        {
          "output_type": "execute_result",
          "data": {
            "text/plain": [
              "54"
            ]
          },
          "metadata": {},
          "execution_count": 26
        }
      ]
    }
  ]
}