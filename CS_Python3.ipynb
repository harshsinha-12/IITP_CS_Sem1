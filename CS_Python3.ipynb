{
  "nbformat": 4,
  "nbformat_minor": 0,
  "metadata": {
    "colab": {
      "provenance": [],
      "cell_execution_strategy": "setup",
      "authorship_tag": "ABX9TyNBEpnngrmmCkDWJG/CTPMQ",
      "include_colab_link": true
    },
    "kernelspec": {
      "name": "python3",
      "display_name": "Python 3"
    },
    "language_info": {
      "name": "python"
    }
  },
  "cells": [
    {
      "cell_type": "markdown",
      "metadata": {
        "id": "view-in-github",
        "colab_type": "text"
      },
      "source": [
        "<a href=\"https://colab.research.google.com/github/harshsinha-12/IITP_CS_Sem1/blob/main/CS_Python3.ipynb\" target=\"_parent\"><img src=\"https://colab.research.google.com/assets/colab-badge.svg\" alt=\"Open In Colab\"/></a>"
      ]
    },
    {
      "cell_type": "code",
      "execution_count": 10,
      "metadata": {
        "colab": {
          "base_uri": "https://localhost:8080/"
        },
        "id": "56Na5v_WCceA",
        "outputId": "e2d1c521-f978-43da-c3f1-cf00588cf3fd"
      },
      "outputs": [
        {
          "output_type": "stream",
          "name": "stdout",
          "text": [
            "Enter number of elements:4\n",
            "Enter a number:3\n",
            "Enter a number:5\n",
            "Enter a number:6\n",
            "Enter a number:1\n",
            "15\n",
            "Average: 3.75\n"
          ]
        }
      ],
      "source": [
        "s= 0\n",
        "e = int(input(\"Enter number of elements:\"))\n",
        "for i in range(1,e+1):\n",
        "  n = int(input(\"Enter a number:\"))\n",
        "  s+=n\n",
        "print(s)\n",
        "print(\"Average:\",s/e)"
      ]
    },
    {
      "cell_type": "code",
      "source": [
        "s = int(input(\"Enter the starting number:\"))\n",
        "e = int(input(\"Enter the ending number:\"))\n",
        "print(f\"The Odd numbers between {s} and {e} are:\")\n",
        "for i in range(s, e+1):\n",
        "  if i%2 != 0:\n",
        "    print(i)"
      ],
      "metadata": {
        "colab": {
          "base_uri": "https://localhost:8080/"
        },
        "id": "xvb4_Lj2HwL0",
        "outputId": "038aa85b-cbe5-470d-a6c8-5c99c7091873"
      },
      "execution_count": 12,
      "outputs": [
        {
          "output_type": "stream",
          "name": "stdout",
          "text": [
            "Enter the starting number:3\n",
            "Enter the ending number:30\n",
            "The Odd numbers between 3 and 30 are:\n",
            "3\n",
            "5\n",
            "7\n",
            "9\n",
            "11\n",
            "13\n",
            "15\n",
            "17\n",
            "19\n",
            "21\n",
            "23\n",
            "25\n",
            "27\n",
            "29\n"
          ]
        }
      ]
    },
    {
      "cell_type": "code",
      "source": [
        "n = int(input(\"Enter the number of elements for Fibonacci Series:\"))\n",
        "\n",
        "a, b = 0, 1\n",
        "\n",
        "print(f\"Element 1:\", a)\n",
        "print(f\"Element 2:\", b)\n",
        "for i in range(3, n + 1):\n",
        "    next_num = a + b\n",
        "    a, b = b, next_num\n",
        "    print(f\"Element {i}: {next_num}\")"
      ],
      "metadata": {
        "colab": {
          "base_uri": "https://localhost:8080/"
        },
        "id": "skdTODi4JJ_j",
        "outputId": "bf87fe84-0547-48d4-d02a-6710c3d6bf5a"
      },
      "execution_count": 19,
      "outputs": [
        {
          "output_type": "stream",
          "name": "stdout",
          "text": [
            "Enter the number of elements for Fibonacci Series16\n",
            "Element 1: 0\n",
            "Element 2: 1\n",
            "Element 3: 1\n",
            "Element 4: 2\n",
            "Element 5: 3\n",
            "Element 6: 5\n",
            "Element 7: 8\n",
            "Element 8: 13\n",
            "Element 9: 21\n",
            "Element 10: 34\n",
            "Element 11: 55\n",
            "Element 12: 89\n",
            "Element 13: 144\n",
            "Element 14: 233\n",
            "Element 15: 377\n",
            "Element 16: 610\n"
          ]
        }
      ]
    }
  ]
}