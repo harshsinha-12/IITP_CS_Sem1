{
  "nbformat": 4,
  "nbformat_minor": 0,
  "metadata": {
    "colab": {
      "provenance": [],
      "cell_execution_strategy": "setup",
      "authorship_tag": "ABX9TyOcn1BcdYX1e93AtQKhRYTr",
      "include_colab_link": true
    },
    "kernelspec": {
      "name": "python3",
      "display_name": "Python 3"
    },
    "language_info": {
      "name": "python"
    }
  },
  "cells": [
    {
      "cell_type": "markdown",
      "metadata": {
        "id": "view-in-github",
        "colab_type": "text"
      },
      "source": [
        "<a href=\"https://colab.research.google.com/github/harshsinha-12/IITP_CS_Sem1/blob/main/Programming_Assign.ipynb\" target=\"_parent\"><img src=\"https://colab.research.google.com/assets/colab-badge.svg\" alt=\"Open In Colab\"/></a>"
      ]
    },
    {
      "cell_type": "markdown",
      "source": [
        "# Python Basics Programming Assignment"
      ],
      "metadata": {
        "id": "O585e2s5GUoN"
      }
    },
    {
      "cell_type": "markdown",
      "source": [
        "# 1. Write a Python program to take input of two integers from users and print their summation, subtraction, multiplication, and division results as output."
      ],
      "metadata": {
        "id": "_sxAN-7fGXGf"
      }
    },
    {
      "cell_type": "code",
      "source": [
        "def cal():\n",
        "  a = float(input(\"Enter Number 1:\"))\n",
        "  b = float(input(\"Enter Number 2:\"))\n",
        "  print(\"Sum is:\",a+b)\n",
        "  print(\"Difference is:\",a-b)\n",
        "  print(\"Product is:\",a*b)\n",
        "  print(\"Quotient is:\",a/b)\n",
        "\n",
        "cal()"
      ],
      "metadata": {
        "colab": {
          "base_uri": "https://localhost:8080/"
        },
        "id": "bmleAkTJGW2X",
        "outputId": "24b34ce1-104c-49e3-bca9-8263070305e2"
      },
      "execution_count": 1,
      "outputs": [
        {
          "output_type": "stream",
          "name": "stdout",
          "text": [
            "Enter Number 1:60\n",
            "Enter Number 2:10\n",
            "Sum is: 70.0\n",
            "Difference is: 50.0\n",
            "Product is: 600.0\n",
            "Quotient is: 6.0\n"
          ]
        }
      ]
    },
    {
      "cell_type": "markdown",
      "source": [
        "# 2. Write a Python program that calculates the simple interest on a loan or investment. Ask the user for the principal amount, interest rate, and time period. Calculate and display the simple interest"
      ],
      "metadata": {
        "id": "Bc726TS9IJMW"
      }
    },
    {
      "cell_type": "code",
      "source": [
        "def SI():\n",
        "  p = float(input(\"Enter Principal Value:\"))\n",
        "  r = float(input(\"Enter Rate of Interest:\"))\n",
        "  t = float(input(\"Enter Time in years:\"))\n",
        "  print(f\"Simple interest on Principal of {p}, Rate of Interest {r}%, Time {t} Years is {p*r*t/100}\")\n",
        "\n",
        "SI()"
      ],
      "metadata": {
        "colab": {
          "base_uri": "https://localhost:8080/"
        },
        "id": "5M6vxKWKIk7k",
        "outputId": "95241cdc-f598-48a9-c6ad-16f99378a97d"
      },
      "execution_count": 2,
      "outputs": [
        {
          "output_type": "stream",
          "name": "stdout",
          "text": [
            "Enter Principal Value:1000\n",
            "Enter Rate of Interest:10\n",
            "Enter Time in years:2\n",
            "Simple interest on Principal of 1000.0, Rate of Interest 10.0, Time 2.0 is 200.0\n"
          ]
        }
      ]
    },
    {
      "cell_type": "markdown",
      "source": [
        "# 3. Define a function that accepts a radius and returns the area of a circle"
      ],
      "metadata": {
        "id": "yQRCJPNZL2Y0"
      }
    },
    {
      "cell_type": "code",
      "source": [
        "def area():\n",
        "  r = float(input(\"Enter radius of Circle in Cm:\"))\n",
        "  print(f\"Area of circle with radius {r} is {r**2*3.14}\")\n",
        "\n",
        "area()"
      ],
      "metadata": {
        "colab": {
          "base_uri": "https://localhost:8080/"
        },
        "id": "27WR0b6_L60v",
        "outputId": "22859747-bd46-4236-eddb-a1629ac8e233"
      },
      "execution_count": 3,
      "outputs": [
        {
          "output_type": "stream",
          "name": "stdout",
          "text": [
            "Enter radius of Circle in Cm:10\n",
            "Area of circle with radius 10.0 is 314.0\n"
          ]
        }
      ]
    },
    {
      "cell_type": "markdown",
      "source": [
        "# 4. Write a Python function called is_prime() that takes an integer as input and returns True if it's a prime number, and False otherwise."
      ],
      "metadata": {
        "id": "dxd2rnTuMdhC"
      }
    },
    {
      "cell_type": "code",
      "source": [
        "def is_prime():\n",
        "  n = int(input(\"Enter Number:\"))\n",
        "  if n == 2:\n",
        "    print(\"Composite Number\")\n",
        "  else:\n",
        "    for i in range(3, int(n/2)+1):\n",
        "      if n%i ==0:\n",
        "        print(\"Composite\")\n",
        "        break\n",
        "      else:\n",
        "        print(\"Prime\")\n",
        "        break\n",
        "\n",
        "is_prime()"
      ],
      "metadata": {
        "colab": {
          "base_uri": "https://localhost:8080/"
        },
        "id": "GmWJS7zzMdPw",
        "outputId": "b6c28e29-85fd-4166-9ea1-d1464c39f10b"
      },
      "execution_count": 34,
      "outputs": [
        {
          "output_type": "stream",
          "name": "stdout",
          "text": [
            "Enter Number:37\n",
            "Prime\n"
          ]
        }
      ]
    },
    {
      "cell_type": "markdown",
      "source": [
        "# 5. Create a program that takes a number as input and uses an if statement to determine if it's positive, negative, or zero."
      ],
      "metadata": {
        "id": "F5z5E9PJgL2k"
      }
    },
    {
      "cell_type": "code",
      "source": [
        "def nature():\n",
        "    n = float(input(\"Enter Number:\"))\n",
        "    if n > 0:\n",
        "      print(f\"{n} is positive\")\n",
        "    elif n < 0:\n",
        "       print(f\"{n} is negative\")\n",
        "    else:\n",
        "      print(f\"{n} is zero\")\n",
        "\n",
        "nature()"
      ],
      "metadata": {
        "colab": {
          "base_uri": "https://localhost:8080/"
        },
        "id": "zP1cg_YVgP99",
        "outputId": "9bdb9469-3c93-48da-ad82-f4f7af0d8546"
      },
      "execution_count": 43,
      "outputs": [
        {
          "output_type": "stream",
          "name": "stdout",
          "text": [
            "Enter Number:0\n",
            "0 is zero\n"
          ]
        }
      ]
    },
    {
      "cell_type": "markdown",
      "source": [
        "# 6. Write a program that checks if a person is eligible to vote based on their age using if else conditions."
      ],
      "metadata": {
        "id": "19FJ7coVgsJH"
      }
    },
    {
      "cell_type": "code",
      "source": [
        "def eligibility():\n",
        "  age = int(input(\"Enter your age: \"))\n",
        "  if age >= 18:\n",
        "    print(\"You are eligible to vote.\")\n",
        "  else:\n",
        "      print(\"You are not eligible to vote.\")\n",
        "\n",
        "eligibility()\n"
      ],
      "metadata": {
        "colab": {
          "base_uri": "https://localhost:8080/"
        },
        "id": "mzigoaPcgzML",
        "outputId": "a60d57d5-aad2-4acb-98cd-71f2e8070e03"
      },
      "execution_count": 45,
      "outputs": [
        {
          "output_type": "stream",
          "name": "stdout",
          "text": [
            "Enter your age: 89\n",
            "You are eligible to vote.\n"
          ]
        }
      ]
    },
    {
      "cell_type": "markdown",
      "source": [
        "# 7. Create a Python program that determines if a given year is a leap year or not. Leap years are divisible by 4 but not divisible by 100, except when they are divisible by 400."
      ],
      "metadata": {
        "id": "okbIvGe9exR-"
      }
    },
    {
      "cell_type": "code",
      "source": [
        "\n",
        "def leapyr():\n",
        "  year = int(input(\"Enter a year: \"))\n",
        "\n",
        "  if (year % 4 == 0 and year % 100 != 0) or (year % 400 == 0):\n",
        "      print(year,\"is a leap year.\")\n",
        "  else:\n",
        "      print(year,\"is not a leap year.\")\n",
        "\n",
        "leapyr()\n"
      ],
      "metadata": {
        "colab": {
          "base_uri": "https://localhost:8080/"
        },
        "id": "IeTIxS1ee3ME",
        "outputId": "685e7ebd-2132-43f6-b697-993532b9b09e"
      },
      "execution_count": 39,
      "outputs": [
        {
          "output_type": "stream",
          "name": "stdout",
          "text": [
            "Enter a year: 2012\n",
            "2012 is a leap year.\n"
          ]
        }
      ]
    },
    {
      "cell_type": "markdown",
      "source": [
        "# 8. Write a Python program that converts an amount from one currency to another. Your program should support conversions between two currencies: USD (United States Dollar) and EUR (Euro). The exchange rate is as follows:\n",
        "#1 USD = 0.85 EUR"
      ],
      "metadata": {
        "id": "yWx59tWbhL-Z"
      }
    },
    {
      "cell_type": "code",
      "source": [
        "def currency_converter():\n",
        "    usd_to_eur = 0.85\n",
        "\n",
        "    amount = float(input(\"Enter the amount: \"))\n",
        "    source_currency = input(\"Enter the source currency (USD or EUR): \").upper()\n",
        "\n",
        "    if source_currency == \"USD\":\n",
        "        eur = amount * usd_to_eur\n",
        "        print(f\"{amount} USD is equal to {eur} EUR\")\n",
        "    elif source_currency == \"EUR\":\n",
        "        usd = amount / usd_to_eur\n",
        "        print(f\"{amount} EUR is equal to {usd} USD\")\n",
        "    else:\n",
        "        print(\"Invalid currency. Please enter USD or EUR.\")\n",
        "\n",
        "currency_converter()\n"
      ],
      "metadata": {
        "colab": {
          "base_uri": "https://localhost:8080/"
        },
        "id": "PL1ROU72hOxf",
        "outputId": "aefe8e66-8076-4771-dc22-d8952cef497a"
      },
      "execution_count": 47,
      "outputs": [
        {
          "output_type": "stream",
          "name": "stdout",
          "text": [
            "Enter the amount: 80\n",
            "Enter the source currency (USD or EUR): eur\n",
            "80.0 EUR is equal to 94.11764705882354 USD\n"
          ]
        }
      ]
    },
    {
      "cell_type": "markdown",
      "source": [
        "# 9. Write a program that finds the maximum of three numbers."
      ],
      "metadata": {
        "id": "g5P2JxJziFfc"
      }
    },
    {
      "cell_type": "code",
      "source": [
        "def greater():\n",
        "  a=float(input(\"Enter the no.1: \"))\n",
        "  b=float(input(\"Enter the no.2: \"))\n",
        "  c=float(input(\"Enter the no.3: \"))\n",
        "\n",
        "  if b<a>c:\n",
        "    print(a)\n",
        "  elif a<b>c:\n",
        "    print(b)\n",
        "  else:\n",
        "    print(c)\n",
        "greater()"
      ],
      "metadata": {
        "colab": {
          "base_uri": "https://localhost:8080/"
        },
        "id": "lIm2524wiFGd",
        "outputId": "f502bbc7-dbee-486d-a065-24452d8caa82"
      },
      "execution_count": 49,
      "outputs": [
        {
          "output_type": "stream",
          "name": "stdout",
          "text": [
            "Enter the no.1: -6\n",
            "Enter the no.2: -4\n",
            "Enter the no.3: -3\n",
            "-3\n"
          ]
        }
      ]
    },
    {
      "cell_type": "markdown",
      "source": [
        "# 10. Create a program that takes the number of days as input and converts it into years, months, and remaining days."
      ],
      "metadata": {
        "id": "xJUBYN23io-0"
      }
    },
    {
      "cell_type": "code",
      "source": [
        "# Try to make it accurate later taking exact monthly days and leap yrs\n",
        "\n",
        "\n",
        "def days_convertor():\n",
        "  days = int(input(\"Enter the number of days: \"))\n",
        "\n",
        "  years = days // 365\n",
        "  remaining_days = days % 365\n",
        "  months = remaining_days // 30\n",
        "  remaining_days = remaining_days % 30\n",
        "\n",
        "  print(f\"{days} days is approximately {years} years, {months} months, and {remaining_days} days.\")\n",
        "\n",
        "days_convertor()\n",
        "\n"
      ],
      "metadata": {
        "colab": {
          "base_uri": "https://localhost:8080/"
        },
        "id": "ypTExecHic8n",
        "outputId": "615abd08-9c56-47e2-f519-7367f26ff250"
      },
      "execution_count": 55,
      "outputs": [
        {
          "output_type": "stream",
          "name": "stdout",
          "text": [
            "Enter the number of days: 5786\n",
            "5786 days is approximately 15 years, 10 months, and 11 days.\n"
          ]
        }
      ]
    }
  ]
}